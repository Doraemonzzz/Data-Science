{
 "cells": [
  {
   "cell_type": "markdown",
   "metadata": {},
   "source": [
    "# Homework 10: Regression Inference, Diagnostics, and Optimization\n",
    "\n",
    "Please complete this notebook by filling in the cells provided. When you’re done, follow the instructions in [this short explainer video](https://www.youtube.com/watch?v=gMt_Rq43y_4&ab_channel=FahadKamran) to submit your homework.\n",
    "\n",
    "If you cannot submit online, come to office hours for assistance. The office hours\n",
    "schedule appears on [data8.org/fa16/weekly.html](http://data8.org/fa16/weekly.html).\n",
    "\n",
    "This assignment is due Thursday, November 17 at 7PM. You will receive an early submission bonus point if you turn it in by Wednesday, November 16 at 7PM. Directly sharing answers is not okay, but discussing problems with course staff or with other students is encouraged.\n",
    "\n",
    "**Important note:** Only Parts 1 and 2 of this assignment will be graded.  Part 3 of this assignment (on ice cream) will not be graded and is intended to give you extra practice with optimization.\n",
    "\n",
    "Reading:\n",
    "- Textbook chapter [13](https://www.inferentialthinking.com/chapters/13/prediction.html)\n",
    "- Textbook chapter [14](https://www.inferentialthinking.com/chapters/14/inference-for-regression.html)"
   ]
  },
  {
   "cell_type": "markdown",
   "metadata": {},
   "source": [
    "Run the cell below to prepare the notebook."
   ]
  },
  {
   "cell_type": "code",
   "execution_count": null,
   "metadata": {
    "collapsed": false
   },
   "outputs": [],
   "source": [
    "# Run this cell to set up the notebook, but please don't change it.\n",
    "import numpy as np\n",
    "from datascience import *\n",
    "\n",
    "# These lines do some fancy plotting magic.\n",
    "import matplotlib\n",
    "%matplotlib inline\n",
    "import matplotlib.pyplot as plt\n",
    "plt.style.use('fivethirtyeight')\n",
    "import warnings\n",
    "warnings.simplefilter('ignore', FutureWarning)\n",
    "from matplotlib import patches\n",
    "from ipywidgets import interact, interactive, fixed\n",
    "import ipywidgets as widgets\n",
    "\n",
    "from client.api.assignment import load_assignment\n",
    "tests = load_assignment('hw10.ok')"
   ]
  },
  {
   "cell_type": "markdown",
   "metadata": {},
   "source": [
    "## Quantifying Sampling Errors in Regression"
   ]
  },
  {
   "cell_type": "markdown",
   "metadata": {},
   "source": [
    "Recall the Old Faithful dataset from our lab on regression. The table contains two pieces of information about each eruption of the Old Faithful geyser in Yellowstone National Park:\n",
    "1. The duration of the eruption, in minutes.\n",
    "2. The time between this eruption and the next eruption (the \"waiting time\"), in minutes.\n",
    "\n",
    "The dataset is plotted below along with its line of best fit."
   ]
  },
  {
   "cell_type": "code",
   "execution_count": 6,
   "metadata": {
    "collapsed": false
   },
   "outputs": [],
   "source": [
    "faithful = Table.read_table('faithful_inference.csv')\n",
    "faithful.scatter('duration', fit_line=True)\n",
    "faithful"
   ]
  },
  {
   "cell_type": "markdown",
   "metadata": {},
   "source": [
    "Last time we looked at this dataset, we noticed the apparent linear relationship betwen duration and wait, and we decided to use regression to predict wait in terms of duration. However, our data are just a sample of all the eruptions that have happened at Old Faithful. As we know, relationships can appear in a sample that don't really exist in the population from which the sample was taken.\n",
    "\n",
    "Before we move forward using our linear model, we would like to know whether or not there truly exists a relationship between duration and wait time. If there is no relationship between the two, then we'd expect a correlation of 0, which would give us a slope of 0. In the language of hypothesis tests, we'd like to test the following hypotheses:\n",
    "\n",
    "- **Null Hypothesis:** The true slope of the regression line that predicts wait from duration, computed using the population of all eruptions that have ever happened, is 0. If the slope of the regression line computed from our sample isn't 0, that's just the result of chance variation.\n",
    "- **Alternate Hypothesis:** The true slope of the regression line is not 0.\n",
    "\n",
    "We will use the method of confidence intervals to test this hypothesis."
   ]
  },
  {
   "cell_type": "markdown",
   "metadata": {},
   "source": [
    "<div class=\"hide\">\\pagebreak</div>\n",
    "#### Question 1\n",
    "We'll warm up by implementing some familiar functions. You may use these functions throughout this assignment. Start by defining these two functions:\n",
    "\n",
    "1. `standard_units` should take in an array of numbers and return an array containing those numbers converted to standard units.\n",
    "2. `correlation` should take in a table with 2 columns and return the correlation between these columns."
   ]
  },
  {
   "cell_type": "code",
   "execution_count": 7,
   "metadata": {
    "collapsed": true
   },
   "outputs": [],
   "source": [
    "def standard_units(arr):\n",
    "    ...\n",
    "\n",
    "def correlation(tbl):\n",
    "    ..."
   ]
  },
  {
   "cell_type": "markdown",
   "metadata": {},
   "source": [
    "<div class=\"hide\">\\pagebreak</div>\n",
    "#### Question 2\n",
    "Using the functions you just implemented, create a function called `fit_line`.  It should take a table as its argument.  It should return an array containing the slope and intercept of the regression line that predicts the second column in the table using the first."
   ]
  },
  {
   "cell_type": "code",
   "execution_count": null,
   "metadata": {
    "collapsed": true,
    "for_assignment_type": "student"
   },
   "outputs": [],
   "source": [
    "def fit_line(tbl):\n",
    "    ...\n",
    "    slope = ...\n",
    "    intercept = ...\n",
    "    return make_array(slope, intercept)\n",
    "\n",
    "fit_line(faithful)"
   ]
  },
  {
   "cell_type": "markdown",
   "metadata": {},
   "source": [
    "Now we have all the tools we need in order to create a confidence interval quantifying our uncertainty about the true relationship between duration and wait time."
   ]
  },
  {
   "cell_type": "markdown",
   "metadata": {},
   "source": [
    "<div class=\"hide\">\\pagebreak</div>\n",
    "#### Question 3\n",
    "Use the bootstrap to compute 1000 resamples from our dataset. For each resample, compute the slope of the best fit line. Put these slopes in the array `resample_slopes`, giving you the empirical distribution of regression line slopes in resamples."
   ]
  },
  {
   "cell_type": "code",
   "execution_count": 9,
   "metadata": {
    "collapsed": false
   },
   "outputs": [],
   "source": [
    "resample_slopes = make_array()\n",
    "for i in np.arange(1000):\n",
    "    sample = ...\n",
    "    resample_line = ...\n",
    "    resample_slope = ...\n",
    "    resample_slopes = ...\n",
    "\n",
    "Table().with_column(\"Slope estimate\", resample_slopes).hist()"
   ]
  },
  {
   "cell_type": "markdown",
   "metadata": {},
   "source": [
    "<div class=\"hide\">\\pagebreak</div>\n",
    "#### Question 4\n",
    "Use your resampled slopes to construct an approximate 95% confidence interval for the true value of the slope."
   ]
  },
  {
   "cell_type": "code",
   "execution_count": 10,
   "metadata": {
    "collapsed": false
   },
   "outputs": [],
   "source": [
    "lower_end = ...\n",
    "upper_end = ...\n",
    "print(\"95% confidence interval for slope: [{:g}, {:g}]\".format(lower_end, upper_end))"
   ]
  },
  {
   "cell_type": "markdown",
   "metadata": {},
   "source": [
    "<div class=\"hide\">\\pagebreak</div>\n",
    "#### Question 5\n",
    "Based on your confidence interval, would you accept or reject the null hypothesis that the true slope is 0?  Why?  What P-value cutoff are you using?"
   ]
  },
  {
   "cell_type": "markdown",
   "metadata": {},
   "source": [
    "*Write your answer here, replacing this text.*"
   ]
  },
  {
   "cell_type": "markdown",
   "metadata": {},
   "source": [
    "Suppose we're tourists at Yellowstone, and we'd like to know how long we'll have to wait for the next Old Faithful eruption.  We decide to use our regression line to make some predictions for the waiting times.  But just as we're uncertain about the slope of the true regression line, we're also uncertain about the predictions we'd make based on the true regression line."
   ]
  },
  {
   "cell_type": "markdown",
   "metadata": {},
   "source": [
    "<div class=\"hide\">\\pagebreak</div>\n",
    "#### Question 6\n",
    "Define the function `fitted_value`.  It should take 2 arguments:\n",
    "\n",
    "1. A table with 2 columns.  We'll be predicting the values in the second column using the first.\n",
    "2. A number, the value of the predictor variable for which we'd like to make a prediction.\n",
    "\n",
    "Make sure to use your `fit_line` function. "
   ]
  },
  {
   "cell_type": "code",
   "execution_count": null,
   "metadata": {
    "collapsed": true,
    "for_assignment_type": "student"
   },
   "outputs": [],
   "source": [
    "def fitted_value(table, given_x):\n",
    "    # The staff solution took 4 lines of code.\n",
    "    ...\n",
    "\n",
    "# Here's an example of how fitted_value is used.  This should\n",
    "# compute the prediction for the wait time of an eruption that lasts \n",
    "# two minutes .\n",
    "two_minutes_wait = fitted_value(faithful, 2)\n",
    "two_minutes_wait"
   ]
  },
  {
   "cell_type": "markdown",
   "metadata": {},
   "source": [
    "<div class=\"hide\">\\pagebreak</div>\n",
    "#### Question 7\n",
    "The park ranger tells us that the most recent eruption lasted 5 minutes. Using your function above, assign the variable `five_minutes_wait` to the predicted wait time. "
   ]
  },
  {
   "cell_type": "code",
   "execution_count": 33,
   "metadata": {
    "collapsed": false
   },
   "outputs": [],
   "source": [
    "five_minutes_wait = ...\n",
    "five_minutes_wait"
   ]
  },
  {
   "cell_type": "markdown",
   "metadata": {},
   "source": [
    "Juan, a fellow tourist, raises the following objection to your prediction:\n",
    "\n",
    "> \"Your prediction depends on your sample of 272 eruptions.  Couldn't your prediction have been different if you had happened to have a different sample of eruptions?\"\n",
    "\n",
    "Having read [section 14.3](https://www.inferentialthinking.com/chapters/14/3/prediction-intervals.html) of the textbook, you know just the response!"
   ]
  },
  {
   "cell_type": "markdown",
   "metadata": {},
   "source": [
    "<div class=\"hide\">\\pagebreak</div>\n",
    "#### Question 8\n",
    "Define the function `bootstrap_lines`.  It should take two arguments:\n",
    "1. A table with two columns.  As usual, we'll be predicting the second column using the first.\n",
    "2. An integer, a number of bootstraps to run.\n",
    "\n",
    "It should return a *table* whose first column, `\"Slope\"`, contains the given number of bootstrapped slopes, and whose second column, `\"Intercept\"`, contains the corresponding bootstrapped intercepts.  Each slope and intercept should come from a regression line that predicts column 2 from column 1 of a resample of the given table.  The table should have 1 row for each bootstrap replication.\n",
    "\n",
    "**Hint:** Your code should look very similar to the code you wrote for question 3, with just a few key changes."
   ]
  },
  {
   "cell_type": "code",
   "execution_count": null,
   "metadata": {
    "collapsed": true,
    "for_assignment_type": "student"
   },
   "outputs": [],
   "source": [
    "def bootstrap_lines(tbl, num_bootstraps):\n",
    "    ...\n",
    "\n",
    "# When you're done, this code should produce the slopes\n",
    "# and intercepts of 1000 regression lines computed from\n",
    "# resamples of the faithful table.\n",
    "regression_lines = bootstrap_lines(faithful, 1000)\n",
    "regression_lines"
   ]
  },
  {
   "cell_type": "markdown",
   "metadata": {},
   "source": [
    "<div class=\"hide\">\\pagebreak</div>\n",
    "#### Question 10\n",
    "Create an array called `predictions_for_five`.  It should contain 1000 numbers.  Each number should be the predicted waiting time after an eruption with a duration of 5 minutes, using a different bootstrapped regression line."
   ]
  },
  {
   "cell_type": "code",
   "execution_count": 16,
   "metadata": {
    "collapsed": false
   },
   "outputs": [],
   "source": [
    "predictions_for_five = ...\n",
    "\n",
    "# This will make a histogram of your predictions:\n",
    "table_of_predictions = Table().with_column('Predictions at eruptions=5', predictions_for_five)\n",
    "table_of_predictions.hist('Predictions at eruptions=5', bins=20)"
   ]
  },
  {
   "cell_type": "markdown",
   "metadata": {},
   "source": [
    "<div class=\"hide\">\\pagebreak</div>\n",
    "#### Question 11\n",
    "Create a 95 percent confidence interval for these predictions."
   ]
  },
  {
   "cell_type": "code",
   "execution_count": 14,
   "metadata": {
    "collapsed": false
   },
   "outputs": [],
   "source": [
    "lower_bound = ...\n",
    "upper_bound = ...\n",
    "\n",
    "print('95% Confidence interval for predictions for x=5: (', lower_bound,\",\", upper_bound, ')')"
   ]
  },
  {
   "cell_type": "markdown",
   "metadata": {},
   "source": [
    "<div class=\"hide\">\\pagebreak</div>\n",
    "#### Question 12\n",
    "Look at the scatter plot of the data at the start of this exercise.  Does your confidence interval cover around 95 percent of eruptions in `faithful` that had an eruption duration of 5 minutes? If not, what does this confidence interval mean?"
   ]
  },
  {
   "cell_type": "markdown",
   "metadata": {},
   "source": [
    "*Write your answer here, replacing this text.*"
   ]
  },
  {
   "cell_type": "markdown",
   "metadata": {},
   "source": [
    "## 2. Visual Diagnostics for Linear Regression\n"
   ]
  },
  {
   "cell_type": "markdown",
   "metadata": {},
   "source": [
    "Linear regression isn't always the best way to describe the relationship between two variables. We'd like to develop techniques that will help us decide whether or not to use a linear model to predict one variable based on another.\n",
    "\n",
    "We will use the insight that if a regression fits a set of points well, then the residuals from that regression line will show no pattern when plotted against the predictor variable. \n",
    "\n",
    "The table below contains information about crime rates and median home values in suburbs of Boston. We will attempt to use linear regression to predict median home value in terms of crime rate.\n",
    "\n",
    "#### About the dataset\n",
    "All data are from 1970.  Crime rates are per capita per year; home values are in thousands of dollars.  The crime data come from the FBI, and home values are from the US Census Bureau.  The original dataset can be found [here](https://archive.ics.uci.edu/ml/datasets/Housing).\n",
    "\n",
    "Run the next cell to load the data and see a scatter plot."
   ]
  },
  {
   "cell_type": "code",
   "execution_count": 5,
   "metadata": {
    "collapsed": false
   },
   "outputs": [],
   "source": [
    "boston = Table.read_table('boston_housing.csv')\n",
    "boston.scatter('Crime Rate')"
   ]
  },
  {
   "cell_type": "markdown",
   "metadata": {},
   "source": [
    "<div class=\"hide\">\\pagebreak</div>\n",
    "#### Question 1\n",
    "Write a function called `residuals`.  It should take a single argument, a table.  It should first compute the slope and intercept of the regression line that predicts the second column of that table (accessible as `tbl.column(1)`) using the first column (`tbl.column(0)`).  `residuals` should return an array containing the *residuals* for that regression line. Recall that residuals are given by \n",
    "\n",
    "$$\\texttt{residual} = \\texttt{observed value} - \\texttt{regression estimate}.$$"
   ]
  },
  {
   "cell_type": "code",
   "execution_count": null,
   "metadata": {
    "collapsed": true,
    "for_assignment_type": "student"
   },
   "outputs": [],
   "source": [
    "def residuals(tbl):\n",
    "    ..."
   ]
  },
  {
   "cell_type": "markdown",
   "metadata": {},
   "source": [
    "<div class=\"hide\">\\pagebreak</div>\n",
    "#### Question 2\n",
    "Make a scatter plot of the residuals for the Boston housing dataset against crime rate. Crime rate should be on the horizontal axis."
   ]
  },
  {
   "cell_type": "code",
   "execution_count": 10,
   "metadata": {
    "collapsed": false
   },
   "outputs": [],
   "source": [
    "..."
   ]
  },
  {
   "cell_type": "markdown",
   "metadata": {},
   "source": [
    "<div class=\"hide\">\\pagebreak</div>\n",
    "#### Question 3\n",
    "Does the plot of residuals look roughly like a formless cloud?  Or is there some kind of pattern in them?"
   ]
  },
  {
   "cell_type": "markdown",
   "metadata": {},
   "source": [
    "*Write your answer here, replacing this text.*"
   ]
  },
  {
   "cell_type": "markdown",
   "metadata": {},
   "source": [
    "<div class=\"hide\">\\pagebreak</div>\n",
    "#### Question 4\n",
    "Does it seem like a linear model is appropriate for describing the relationship between crime and median home value? Explain your reasoning."
   ]
  },
  {
   "cell_type": "markdown",
   "metadata": {},
   "source": [
    "*Write your answer here, replacing this text.*"
   ]
  },
  {
   "cell_type": "markdown",
   "metadata": {},
   "source": [
    "[Section 13.6](https://www.inferentialthinking.com/chapters/13/6/numerical-diagnostics.html) of the textbook describes some mathematical facts that hold for all regression estimates, regardless of goodness of fit.  One fact is that there is a relationship between the standard deviation of the residuals, the standard deviation of the response variable, and the correlation.  Let us test this.\n",
    "\n",
    "Below, we have imported a new table, the Old Faithful data."
   ]
  },
  {
   "cell_type": "code",
   "execution_count": 22,
   "metadata": {
    "collapsed": false
   },
   "outputs": [],
   "source": [
    "old_faithful = Table.read_table('faithful.csv')\n",
    "old_faithful"
   ]
  },
  {
   "cell_type": "markdown",
   "metadata": {},
   "source": [
    "The following cell makes a residual plot for this new dataset."
   ]
  },
  {
   "cell_type": "code",
   "execution_count": 23,
   "metadata": {
    "collapsed": false
   },
   "outputs": [],
   "source": [
    "Table().with_columns('Residual', residuals(old_faithful), 'Duration', faithful.column('duration')).scatter('Duration')"
   ]
  },
  {
   "cell_type": "markdown",
   "metadata": {},
   "source": [
    "<div class=\"hide\">\\pagebreak</div>\n",
    "#### Question 5\n",
    "Directly compute the standard deviation of the residuals from the Boston data.  Then compute the same quantity without using the residuals, using the formula described in section 13.6 instead."
   ]
  },
  {
   "cell_type": "code",
   "execution_count": 18,
   "metadata": {
    "collapsed": false
   },
   "outputs": [],
   "source": [
    "boston_residual_sd = ...\n",
    "boston_residual_sd_from_formula = ...\n",
    "\n",
    "print(\"Residual SD: {0}\".format(boston_residual_sd))\n",
    "print(\"Residual SD from the formula: {0}\".format(boston_residual_sd_from_formula))"
   ]
  },
  {
   "cell_type": "markdown",
   "metadata": {},
   "source": [
    "<div class=\"hide\">\\pagebreak</div>\n",
    "#### Question 6\n",
    "Repeat the procedure from Question 5 for the `old_faithful` dataset."
   ]
  },
  {
   "cell_type": "code",
   "execution_count": 24,
   "metadata": {
    "collapsed": false
   },
   "outputs": [],
   "source": [
    "faithful_residual_sd = ...\n",
    "faithful_residual_sd_from_formula = ...\n",
    "\n",
    "print(\"Residual SD: {0}\".format(faithful_residual_sd))\n",
    "print(\"Residual SD from the formula: {0}\".format(faithful_residual_sd_from_formula))"
   ]
  },
  {
   "cell_type": "markdown",
   "metadata": {},
   "source": [
    "## 3. Better Ice Cream Sales through Minimization\n"
   ]
  },
  {
   "cell_type": "markdown",
   "metadata": {},
   "source": [
    "In this exercise, we'll use `minimize` to find an optimal location for an ice cream truck.  Minimization is useful in a vast array of applications - it's not just for finding the best line through a scatter plot!\n",
    "\n",
    "You'll see 3 different ways to do minimization:\n",
    "1. Using a slider to find the best location manually\n",
    "2. Trying a bunch of locations using `apply` and finding the best one using `sort`\n",
    "3. Using `minimize`\n",
    "\n",
    "Data 8 is poised to disrupt the ice cream market.  We're catering to San Francisco hipsters, so we operate a truck that sells our locally-sourced organic Sriracha-Kale ice cream.  Today we have driven our truck to Ocean Beach, a long, narrow beach on the western coast of the city.\n",
    "\n",
    "<img src=\"ocean_beach.jpg\">\n",
    "\n",
    "Upon arriving, we find that our potential customers are spread out along the beach.  We decide we want to park our truck in the location that's closest *on average* to all the customers.  That way, customers will be more likely to come to our truck.\n",
    "\n",
    "(This may not be a great way to choose our truck's location.  Maybe you can think of a better way to decide on a location.)\n",
    "\n",
    "We canvas the beach and record the location of each beachgoer in a table called `customers`.  The beach is oriented roughly North/South, and it's narrow, so we ignore how close each beachgoer is to the water.  We record only how far north each person is from the southern end of the beach."
   ]
  },
  {
   "cell_type": "markdown",
   "metadata": {},
   "source": [
    "Suppose there are 2 people on the beach, at 600 meters and 950 meters from the Southern end, respectively.  If we park our truck at 750 meters, the average distance from our truck to customers is:\n",
    "\n",
    "$$\\frac{|600 - 750| + |950 - 750|}{2}.$$\n",
    "\n",
    "\n",
    "\n",
    "<img src=\"beach_locations.jpg\">\n",
    "\n",
    "By now, the Python code that computes this might look a little familiar:"
   ]
  },
  {
   "cell_type": "code",
   "execution_count": 70,
   "metadata": {
    "collapsed": false
   },
   "outputs": [],
   "source": [
    "# The customer locations:\n",
    "two_customer_locations = make_array(600, 950)\n",
    "\n",
    "first_truck_location = 750\n",
    "\n",
    "two_customers_mean_distance_from_750 = np.mean(np.abs(two_customer_locations - first_truck_location))\n",
    "two_customers_mean_distance_from_750"
   ]
  },
  {
   "cell_type": "markdown",
   "metadata": {},
   "source": [
    "<div class=\"hide\">\\pagebreak</div>\n",
    "#### Question 1\n",
    "A new person shows up on the beach, so the new customer locations are 600, 950, and 1,150 meters from the southern end.  If we park our ice cream truck at the *mean* of those locations, what is the average distance from our truck to customers?"
   ]
  },
  {
   "cell_type": "code",
   "execution_count": 4,
   "metadata": {
    "collapsed": false
   },
   "outputs": [],
   "source": [
    "three_customer_locations = make_array(600, 950, 1150)\n",
    "\n",
    "# Compute this.\n",
    "three_customers_mean_distance_from_mean = ...\n",
    "three_customers_mean_distance_from_mean"
   ]
  },
  {
   "cell_type": "code",
   "execution_count": 5,
   "metadata": {
    "collapsed": false
   },
   "outputs": [],
   "source": [
    "_ = tests.grade('q3_1')"
   ]
  },
  {
   "cell_type": "markdown",
   "metadata": {},
   "source": [
    "<div class=\"hide\">\\pagebreak</div>\n",
    "#### Question 2\n",
    "The mean is 900 meters.  If we park our truck at 925 meters instead, what's the average distance from our truck to a customer?"
   ]
  },
  {
   "cell_type": "code",
   "execution_count": 73,
   "metadata": {
    "collapsed": false
   },
   "outputs": [],
   "source": [
    "# Fill in three_customers_mean_distance_from_925.  Use code to compute it.\n",
    "three_customers_mean_distance_from_925 = ...\n",
    "three_customers_mean_distance_from_925"
   ]
  },
  {
   "cell_type": "code",
   "execution_count": 7,
   "metadata": {
    "collapsed": false
   },
   "outputs": [],
   "source": [
    "_ = tests.grade('q3_2')"
   ]
  },
  {
   "cell_type": "markdown",
   "metadata": {},
   "source": [
    "The average distance went down!  Despite what your intuition might say, the mean of the customer locations isn't the best location to pick."
   ]
  },
  {
   "cell_type": "markdown",
   "metadata": {},
   "source": [
    "Use the slider created by the next cell to find approximately the best location for the `three_customer_locations` dataset.  (You'll only be able to get within 5 of the best location.  It's okay if your submission doesn't display the slider.)"
   ]
  },
  {
   "cell_type": "code",
   "execution_count": 16,
   "metadata": {
    "collapsed": false
   },
   "outputs": [],
   "source": [
    "def three_customers_distance(location):\n",
    "    return np.mean(np.abs(three_customer_locations - location))\n",
    "\n",
    "interact(three_customers_distance, location=widgets.FloatSlider(min=700, max=1300, step=5, value=900, msg_throttle=1));"
   ]
  },
  {
   "cell_type": "markdown",
   "metadata": {},
   "source": [
    "<div class=\"hide\">\\pagebreak</div>\n",
    "#### Question 3\n",
    "What location did you find?  What was the average distance to customers from that location?  Is that location around the same as any familiar statistic of the data?"
   ]
  },
  {
   "cell_type": "markdown",
   "metadata": {},
   "source": [
    "*Write your answer here, replacing this text.*"
   ]
  },
  {
   "cell_type": "markdown",
   "metadata": {},
   "source": [
    "#### The full dataset\n",
    "Now let's look at the full customer dataset.  In this dataset, there are 1,000 people on the beach.  The next cell displays a histogram of their locations."
   ]
  },
  {
   "cell_type": "code",
   "execution_count": 5,
   "metadata": {
    "collapsed": false
   },
   "outputs": [],
   "source": [
    "# Just run this cell.\n",
    "customers = Table.read_table(\"customers.csv\")\n",
    "customers.hist(bins=np.arange(0, 2001, 100))\n",
    "customers"
   ]
  },
  {
   "cell_type": "markdown",
   "metadata": {},
   "source": [
    "Let's think very precisely about what we're trying to optimize.  Given these customer locations, we want to find a *single location*.  If we park our truck at that location, we want it to result in the smallest *average distance from our truck to customers*."
   ]
  },
  {
   "cell_type": "markdown",
   "metadata": {},
   "source": [
    "<div class=\"hide\">\\pagebreak</div>\n",
    "#### Question 4\n",
    "Write a function called `average_distance`.  It should take a single number as its argument (a truck location) and return the average distance from that location to the customers in the `customers` table."
   ]
  },
  {
   "cell_type": "code",
   "execution_count": 8,
   "metadata": {
    "collapsed": false
   },
   "outputs": [],
   "source": [
    "def average_distance(location):\n",
    "    # Fill in the function definition here.\n",
    "    ...\n",
    "\n",
    "# An example call to your function:\n",
    "average_distance(1000)"
   ]
  },
  {
   "cell_type": "code",
   "execution_count": 12,
   "metadata": {
    "collapsed": false,
    "scrolled": true
   },
   "outputs": [],
   "source": [
    "_ = tests.grade('q3_4')"
   ]
  },
  {
   "cell_type": "markdown",
   "metadata": {},
   "source": [
    "`average_distance` tells us how badly we're meeting our objective.  A mathematician would call this an *objective function*.  We want to find the distance that produces the smallest value of this objective function.\n",
    "\n",
    "Use the slider created by the next cell to find approximately the best location for the `customers` dataset. (You'll only be able to get within 5 of the best location.)"
   ]
  },
  {
   "cell_type": "code",
   "execution_count": 9,
   "metadata": {
    "collapsed": false
   },
   "outputs": [],
   "source": [
    "interact(average_distance, location=widgets.FloatSlider(min=700, max=1300, step=5, value=800, msg_throttle=1));"
   ]
  },
  {
   "cell_type": "markdown",
   "metadata": {},
   "source": [
    "<div class=\"hide\">\\pagebreak</div>\n",
    "#### Question 5\n",
    "What location did you find, and what was the average distance to customers from that location?"
   ]
  },
  {
   "cell_type": "markdown",
   "metadata": {},
   "source": [
    "*Write your answer here, replacing this text.*"
   ]
  },
  {
   "cell_type": "markdown",
   "metadata": {},
   "source": [
    "<div class=\"hide\">\\pagebreak</div>\n",
    "#### Question 6\n",
    "Create a table called `average_distances` with two columns:\n",
    "\n",
    "1. `\"location\"`, a truck location.  The smallest location should be 700 and the largest should be 1300, and they should go up in increments of 1.\n",
    "2. `\"average distance to customers\"`.  The average distance from customers (in the `customers` table) to that location.\n",
    "\n",
    "**Then**, sort the table to find the location with the smallest average distance to customers.  Name the sorted table `sorted_average_distances`, and name the best location (a number) `best_location_by_sorting`.\n",
    "\n",
    "**Hint:** The staff solution used the table method `apply`.  If you don't, you'll need to use a `for` loop, and your code will be longer than the skeleton suggests."
   ]
  },
  {
   "cell_type": "code",
   "execution_count": 86,
   "metadata": {
    "collapsed": false,
    "for_assignment_type": "student"
   },
   "outputs": [],
   "source": [
    "locations = Table().with_column(\"location\", np.arange(700, 1300+1, 1))\n",
    "\n",
    "average_distances = locations.with_column(\"average distance to customers\", ...)\n",
    "\n",
    "sorted_average_distances = ...\n",
    "sorted_average_distances.show(5)\n",
    "\n",
    "best_location_by_sorting = ...\n",
    "best_location_by_sorting"
   ]
  },
  {
   "cell_type": "markdown",
   "metadata": {},
   "source": [
    "The function `minimize` does basically the same thing you just did.\n",
    "\n",
    "It takes as its argument a *function*, the objective function.  It returns the input (that is, the argument) that produces the smallest output value of the objective function.  If the objective function takes several arguments, it returns the arguments that produce the smallest output value of the objective function, all together in one array."
   ]
  },
  {
   "cell_type": "markdown",
   "metadata": {},
   "source": [
    "<div class=\"hide\">\\pagebreak</div>\n",
    "#### Question 7\n",
    "Use `minimize` to find the best location for our ice cream truck."
   ]
  },
  {
   "cell_type": "code",
   "execution_count": 85,
   "metadata": {
    "collapsed": false
   },
   "outputs": [],
   "source": [
    "# Write code to compute the best location, using minimize.\n",
    "best_location = ...\n",
    "best_location"
   ]
  },
  {
   "cell_type": "markdown",
   "metadata": {},
   "source": [
    "Your answer should match `best_location_by_sorting` up to a few decimal places.\n",
    "\n",
    "Later in the day, the distribution of potential customers along the beach has changed.  `customers2.csv` contains their new locations."
   ]
  },
  {
   "cell_type": "code",
   "execution_count": 12,
   "metadata": {
    "collapsed": false
   },
   "outputs": [],
   "source": [
    "customers2 = Table.read_table('customers2.csv')\n",
    "customers2.hist(bins=np.arange(0, 2000+100, 100))"
   ]
  },
  {
   "cell_type": "markdown",
   "metadata": {},
   "source": [
    "<div class=\"hide\">\\pagebreak</div>\n",
    "#### Question 8\n",
    "Find the new best location for our ice cream truck."
   ]
  },
  {
   "cell_type": "code",
   "execution_count": 15,
   "metadata": {
    "collapsed": false
   },
   "outputs": [],
   "source": [
    "# Hint: The staff solution defined a function called average_distance2.\n",
    "# We recommend doing that.\n",
    "def average_distance2(location):\n",
    "    ...\n",
    "\n",
    "new_best_location = ...\n",
    "new_best_location"
   ]
  },
  {
   "cell_type": "markdown",
   "metadata": {},
   "source": [
    "If you'd like to check your answer, try doing what you did in question 6.  Your answer to question 3 may also be useful."
   ]
  },
  {
   "cell_type": "code",
   "execution_count": null,
   "metadata": {
    "collapsed": true
   },
   "outputs": [],
   "source": [
    "# For your convenience, you can run this cell to run all the tests at once!\n",
    "import os\n",
    "print(\"Running all tests...\")\n",
    "_ = [tests.grade(q[:-3]) for q in os.listdir(\"tests\") if q.startswith('q')]\n",
    "print(\"Finished running all tests.\")"
   ]
  }
 ],
 "metadata": {
  "kernelspec": {
   "display_name": "Python 3",
   "language": "python",
   "name": "python3"
  },
  "language_info": {
   "codemirror_mode": {
    "name": "ipython",
    "version": 3
   },
   "file_extension": ".py",
   "mimetype": "text/x-python",
   "name": "python",
   "nbconvert_exporter": "python",
   "pygments_lexer": "ipython3",
   "version": "3.4.4"
  }
 },
 "nbformat": 4,
 "nbformat_minor": 0
}

