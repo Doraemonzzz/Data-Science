{
 "cells": [
  {
   "cell_type": "markdown",
   "metadata": {},
   "source": [
    "# Midterm Review 4\n",
    "# 1. `where_not`\n",
    "If `t` is a table and `\"c\"` is the name of one of its columns, then `t.where(\"c\", 3)` produces a smaller table containing rows of `t` where column `c` has value 3.  You decide to make it just as easy to make a table of all the rows where a column is something *other than* a given value.  You write a function called `where_not` to do it.  Its definition starts like this:"
   ]
  },
  {
   "cell_type": "code",
   "execution_count": null,
   "metadata": {
    "collapsed": true
   },
   "outputs": [],
   "source": [
    "def where_not(original_table, column_name, value):\n",
    "    \"\"\"\n",
    "    Returns a new table that's like original_table, but without\n",
    "    any rows where column_name is equal to value.\n",
    "    \"\"\"\n",
    "    return ..."
   ]
  },
  {
   "cell_type": "markdown",
   "metadata": {},
   "source": [
    "Fill in the \"`...`\"."
   ]
  },
  {
   "cell_type": "markdown",
   "metadata": {},
   "source": [
    "**Answer:**\n",
    "\n",
    "    original_table.where(original_table.column(column_name) != value)\n",
    "\n",
    "If you have a hard time with this kind of problem, it might help to think of a specific case.  Suppose you have a table `t` with several columns, including one called `State`.  You want a table that doesn't include the rows where the `State` column is \"California\".  You would then write:\n",
    "\n",
    "    t.where(t.column(\"State\") != \"California\")\n",
    "\n",
    "Our function just generalizes this so that `t`, `\"State\"`, and `\"California\"` could be anything.  To begin generalizing, imagine that you'd defined variables for all the information you needed to write your expression:\n",
    "\n",
    "    state_to_remove = \"California\"\n",
    "    column_name = \"State\"\n",
    "\n",
    "Then you would have written:\n",
    "\n",
    "    t.where(t.column(column_name) != state_to_remove)\n",
    "\n",
    "If you were writing your own function, you could use those variable names and define it as:\n",
    "\n",
    "    def where_not(t, column_name, state_to_remove):\n",
    "        return t.where(t.column(column_name) != state_to_remove)\n",
    "\n",
    "That's the same as our answer, except that some of the names of the arguments are different."
   ]
  },
  {
   "cell_type": "markdown",
   "metadata": {},
   "source": [
    "# 2. What would Python print?\n",
    "What will be printed when the following cell is run?"
   ]
  },
  {
   "cell_type": "code",
   "execution_count": null,
   "metadata": {
    "collapsed": true
   },
   "outputs": [],
   "source": [
    "print(\"1\")\n",
    "\n",
    "def func2(arg):\n",
    "    print(\"2\")\n",
    "    print(arg)\n",
    "\n",
    "def func3():\n",
    "    print(\"3\")\n",
    "    return \"return value of func3\"\n",
    "\n",
    "print(\"4\")\n",
    "func2(func3())"
   ]
  },
  {
   "cell_type": "markdown",
   "metadata": {
    "collapsed": true
   },
   "source": [
    "**Answer:** 1; 4; 3; 2; return value of func3 (separated by semicolons instead of lines for brevity)\n",
    "\n",
    "Pretend that you're Python running this code.  You just go through it line by line and run things.\n",
    "1. You get to `print(\"1\")`.  So you print 1.\n",
    "2. You get to `def func2(arg):`.  So you define a function called `func2` that will execute the subsequent lines under it if it's called.  For now, no one has called `func2`, so nothing inside it happens, and in particular, nothing gets printed.\n",
    "3. The same happens for `def func3():`.\n",
    "4. You get to `print(\"4\")`.  You print 4.\n",
    "\n",
    "So the answer should definitely start with 1 and then 4.  Now it gets a little tricky.  Does the stuff in `func2` or `func3` happen first?  You could read the Python spec, but that's not the point of the question.  Instead, reason a bit about how Python would have to work.\n",
    "\n",
    "We know that `func3` returns something when we call it, and `func2` is going to use that value (calling it `arg`) when it runs.  So Python *must* run `func3` first, to compute that value for `func2` to use.\n",
    "\n",
    "That means that we first encounter `print(\"3\")`, and then `func3` finishes by returning the aptly-named string `\"return value of func3\"`.\n",
    "\n",
    "Then `func2` is called, with the argument `\"return value of func3\"`.  It first prints 2.  Then it prints the value of the argument.  Then it's done (and it returns nothing), and we're done with the cell."
   ]
  },
  {
   "cell_type": "markdown",
   "metadata": {},
   "source": [
    "# 3. `np.array`, part 1\n",
    "In baseball, pitchers tend to throw slower fastballs as they get older.  Suppose we are trying to use linear regression to predict fastball speed using age.  We use 6 pitchers with known ages and fastball speeds to test out our model.\n",
    "\n",
    "In the following code, is the call to `np.array` necessary for the code to work, or is it unnecessary but harmless, or does it cause the code not to work?"
   ]
  },
  {
   "cell_type": "code",
   "execution_count": 7,
   "metadata": {
    "collapsed": false
   },
   "outputs": [],
   "source": [
    "ages = [21, 22, 23, 24, 25, 30]\n",
    "regression_slope = -.25\n",
    "regression_intercept = 101\n",
    "predicted_speeds = np.array(ages) * regression_slope + regression_intercept"
   ]
  },
  {
   "cell_type": "markdown",
   "metadata": {},
   "source": [
    "**Answer:** Necessary.\n",
    "\n",
    "Python understands operators like `*` differently for different types of objects.  `ages` in this example is a list.  Multiplying a list by 2 will copy it twice and squash together the copies into one list:"
   ]
  },
  {
   "cell_type": "code",
   "execution_count": 3,
   "metadata": {
    "collapsed": false
   },
   "outputs": [
    {
     "data": {
      "text/plain": [
       "[1, 2, 5, 1, 2, 5]"
      ]
     },
     "execution_count": 3,
     "metadata": {},
     "output_type": "execute_result"
    }
   ],
   "source": [
    "[1, 2, 5] * 2"
   ]
  },
  {
   "cell_type": "markdown",
   "metadata": {},
   "source": [
    "This is useful in some circumstances.  But in this case, we want to multiply each element of `ages` by `regression_slope`.  (It wouldn't even make sense to multiply an array by `-.25`.)  To get that behavior, we need to use an array, not a list.  So converting `ages` from a list to an array is necessary."
   ]
  },
  {
   "cell_type": "markdown",
   "metadata": {},
   "source": [
    "# 4. `np.array`, part 2\n",
    "Assume you've run the code in the previous cell (perhaps without the call to `np.array` if you said it caused it not to work).  Now suppose you set `true_speeds` to an *array* of the true fastball speeds of the 6 pitchers, and then run this code.\n",
    "\n",
    "In the next cell, is the call to `np.array` necessary for the code to work, or is it unnecessary but harmless, or does it cause the code not to work?"
   ]
  },
  {
   "cell_type": "code",
   "execution_count": null,
   "metadata": {
    "collapsed": true
   },
   "outputs": [],
   "source": [
    "residuals = predicted_speeds - true_speeds\n",
    "sum_squared_residuals = sum(np.array(residuals)**2)"
   ]
  },
  {
   "cell_type": "markdown",
   "metadata": {
    "collapsed": false
   },
   "source": [
    "**Answer:** Unnecessary but harmless.\n",
    "\n",
    "When you multiply an array by something, or add it to a number or another array, the result is a new array.  It would be annoying if you got back a list, because then you'd have to always be converting things back to arrays to do more arithmetic on them.\n",
    "\n",
    "Since `predicted_speeds` is an array, and `true_speeds` is also an array, `predicted_speeds - true_speeds` is an array.  So converting it to an array by writing `np.array(residuals)` is unnecessary.\n",
    "\n",
    "It doesn't break anything, though, because converting an array to an array just gives you back a copy of the array.\n",
    "\n",
    "This would have been an unnecessarily mean question to ask on an exam, but it **is** important to understand that\n",
    "* objects have types,\n",
    "* different types of objects can behave differently, and\n",
    "* you can sometimes convert an object from one type to another."
   ]
  }
 ],
 "metadata": {
  "kernelspec": {
   "display_name": "Python 3",
   "language": "python",
   "name": "python3"
  },
  "language_info": {
   "codemirror_mode": {
    "name": "ipython",
    "version": 3
   },
   "file_extension": ".py",
   "mimetype": "text/x-python",
   "name": "python",
   "nbconvert_exporter": "python",
   "pygments_lexer": "ipython3",
   "version": "3.4.4"
  }
 },
 "nbformat": 4,
 "nbformat_minor": 0
}
