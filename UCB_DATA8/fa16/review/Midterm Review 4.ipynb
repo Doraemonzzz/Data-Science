{
 "cells": [
  {
   "cell_type": "markdown",
   "metadata": {},
   "source": [
    "# Midterm Review 4\n",
    "# 1. `where_not`\n",
    "If `t` is a table and `\"c\"` is the name of one of its columns, then `t.where(\"c\", 3)` produces a smaller table containing rows of `t` where column `c` has value 3.  You decide to make it just as easy to make a table of all the rows where a column is something *other than* a given value.  You write a function called `where_not` to do it.  Its definition starts like this:"
   ]
  },
  {
   "cell_type": "code",
   "execution_count": null,
   "metadata": {
    "collapsed": true
   },
   "outputs": [],
   "source": [
    "def where_not(original_table, column_name, value):\n",
    "    \"\"\"\n",
    "    Returns a new table that's like original_table, but without\n",
    "    any rows where column_name is equal to value.\n",
    "    \"\"\"\n",
    "    return ..."
   ]
  },
  {
   "cell_type": "markdown",
   "metadata": {},
   "source": [
    "Fill in the \"`...`\"."
   ]
  },
  {
   "cell_type": "markdown",
   "metadata": {},
   "source": [
    "# 2. What would Python print?\n",
    "What will be printed when the following cell is run?"
   ]
  },
  {
   "cell_type": "code",
   "execution_count": null,
   "metadata": {
    "collapsed": true
   },
   "outputs": [],
   "source": [
    "print(\"1\")\n",
    "\n",
    "def func2(arg):\n",
    "    print(\"2\")\n",
    "    print(arg)\n",
    "\n",
    "def func3():\n",
    "    print(\"3\")\n",
    "    return \"return value of func3\"\n",
    "\n",
    "print(\"4\")\n",
    "func2(func3())"
   ]
  },
  {
   "cell_type": "markdown",
   "metadata": {},
   "source": [
    "# 3. `np.array`, part 1\n",
    "In baseball, pitchers tend to throw slower fastballs as they get older.  Suppose we are trying to use linear regression to predict fastball speed using age.  We use 6 pitchers with known ages and fastball speeds to test out our model.\n",
    "\n",
    "In the following code, is the call to `np.array` necessary for the code to work, or is it unnecessary but harmless, or does it cause the code not to work?"
   ]
  },
  {
   "cell_type": "code",
   "execution_count": 7,
   "metadata": {
    "collapsed": false
   },
   "outputs": [],
   "source": [
    "ages = [21, 22, 23, 24, 25, 30]\n",
    "regression_slope = -.25\n",
    "regression_intercept = 101\n",
    "predicted_speeds = np.array(ages) * regression_slope + regression_intercept"
   ]
  },
  {
   "cell_type": "markdown",
   "metadata": {},
   "source": [
    "# 4. `np.array`, part 2\n",
    "Assume you've run the code in the previous cell (perhaps without the call to `np.array` if you said it caused it not to work).  Now suppose you set `true_speeds` to an *array* of the true fastball speeds of the 6 pitchers, and then run this code.\n",
    "\n",
    "In the next cell, is the call to `np.array` necessary for the code to work, or is it unnecessary but harmless, or does it cause the code not to work?"
   ]
  },
  {
   "cell_type": "code",
   "execution_count": 12,
   "metadata": {
    "collapsed": false
   },
   "outputs": [],
   "source": [
    "residuals = predicted_speeds - true_speeds\n",
    "sum_squared_residuals = sum(np.array(residuals)**2)"
   ]
  }
 ],
 "metadata": {
  "kernelspec": {
   "display_name": "Python 3",
   "language": "python",
   "name": "python3"
  },
  "language_info": {
   "codemirror_mode": {
    "name": "ipython",
    "version": 3
   },
   "file_extension": ".py",
   "mimetype": "text/x-python",
   "name": "python",
   "nbconvert_exporter": "python",
   "pygments_lexer": "ipython3",
   "version": "3.4.4"
  }
 },
 "nbformat": 4,
 "nbformat_minor": 0
}
