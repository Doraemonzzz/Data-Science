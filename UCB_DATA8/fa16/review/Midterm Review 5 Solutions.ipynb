{
 "cells": [
  {
   "cell_type": "markdown",
   "metadata": {},
   "source": [
    "# Midterm Review 5: Little Women\n",
    "\n",
    "# URL: bit.ly/d8review5\n",
    "# Word: summer\n",
    "\n",
    "\n",
    "\n",
    "In the first lecture of this class, we analyzed the text of the 19th century novel Little Women.  We're going to perform a similar analysis.\n",
    "\n",
    "We start by loading a table called `little_women`.  It contains 1 row for each time a word appears in the book.  (So if the word \"Christmas\" appears 50 times in the whole book, there will be 50 different rows for \"Christmas\" in `little_women`.)  It has 3 columns:\n",
    "* `word`, the word itself\n",
    "* `chapter`, the number of the chapter in which the word appears (the book's chapters start from 1)\n",
    "* `word's index in chapter`, the number of words that came before the word in its chapter\n",
    "\n",
    "# 1.\n",
    "The word \"morning\" is the 17th word in chapter 2.  Chapter 1 had 4954 words in it.  Which of these does the corresponding row in `little_women` look like?\n",
    "\n",
    "a.\n",
    "<style type=\"text/css\">\n",
    ".tg  {border-collapse:collapse;border-spacing:0;}\n",
    ".tg td{font-family:Arial, sans-serif;font-size:14px;padding:10px 5px;border-style:solid;border-width:1px;overflow:hidden;word-break:normal;}\n",
    ".tg th{font-family:Arial, sans-serif;font-size:14px;font-weight:normal;padding:10px 5px;border-style:solid;border-width:1px;overflow:hidden;word-break:normal;}\n",
    ".tg .tg-yw4l{vertical-align:top}\n",
    "</style>\n",
    "<table class=\"tg\">\n",
    "  <tr>\n",
    "    <th class=\"tg-yw4l\">morning</th>\n",
    "    <th class=\"tg-yw4l\">2</th>\n",
    "    <th class=\"tg-yw4l\">17</th>\n",
    "  </tr>\n",
    "</table>\n",
    "\n",
    "b.\n",
    "<style type=\"text/css\">\n",
    ".tg  {border-collapse:collapse;border-spacing:0;}\n",
    ".tg td{font-family:Arial, sans-serif;font-size:14px;padding:10px 5px;border-style:solid;border-width:1px;overflow:hidden;word-break:normal;}\n",
    ".tg th{font-family:Arial, sans-serif;font-size:14px;font-weight:normal;padding:10px 5px;border-style:solid;border-width:1px;overflow:hidden;word-break:normal;}\n",
    ".tg .tg-yw4l{vertical-align:top}\n",
    "</style>\n",
    "<table class=\"tg\">\n",
    "  <tr>\n",
    "    <th class=\"tg-yw4l\">morning</th>\n",
    "    <th class=\"tg-yw4l\">1</th>\n",
    "    <th class=\"tg-yw4l\">17</th>\n",
    "  </tr>\n",
    "</table>\n",
    "\n",
    "c.\n",
    "<style type=\"text/css\">\n",
    ".tg  {border-collapse:collapse;border-spacing:0;}\n",
    ".tg td{font-family:Arial, sans-serif;font-size:14px;padding:10px 5px;border-style:solid;border-width:1px;overflow:hidden;word-break:normal;}\n",
    ".tg th{font-family:Arial, sans-serif;font-size:14px;font-weight:normal;padding:10px 5px;border-style:solid;border-width:1px;overflow:hidden;word-break:normal;}\n",
    ".tg .tg-yw4l{vertical-align:top}\n",
    "</style>\n",
    "<table class=\"tg\">\n",
    "  <tr>\n",
    "    <th class=\"tg-yw4l\">morning</th>\n",
    "    <th class=\"tg-yw4l\">2</th>\n",
    "    <th class=\"tg-yw4l\">16</th>\n",
    "  </tr>\n",
    "</table>\n",
    "\n",
    "d.\n",
    "<style type=\"text/css\">\n",
    ".tg  {border-collapse:collapse;border-spacing:0;}\n",
    ".tg td{font-family:Arial, sans-serif;font-size:14px;padding:10px 5px;border-style:solid;border-width:1px;overflow:hidden;word-break:normal;}\n",
    ".tg th{font-family:Arial, sans-serif;font-size:14px;font-weight:normal;padding:10px 5px;border-style:solid;border-width:1px;overflow:hidden;word-break:normal;}\n",
    ".tg .tg-yw4l{vertical-align:top}\n",
    "</style>\n",
    "<table class=\"tg\">\n",
    "  <tr>\n",
    "    <th class=\"tg-yw4l\">morning</th>\n",
    "    <th class=\"tg-yw4l\">1</th>\n",
    "    <th class=\"tg-yw4l\">16</th>\n",
    "  </tr>\n",
    "</table>\n",
    "\n",
    "e.\n",
    "<style type=\"text/css\">\n",
    ".tg  {border-collapse:collapse;border-spacing:0;}\n",
    ".tg td{font-family:Arial, sans-serif;font-size:14px;padding:10px 5px;border-style:solid;border-width:1px;overflow:hidden;word-break:normal;}\n",
    ".tg th{font-family:Arial, sans-serif;font-size:14px;font-weight:normal;padding:10px 5px;border-style:solid;border-width:1px;overflow:hidden;word-break:normal;}\n",
    ".tg .tg-yw4l{vertical-align:top}\n",
    "</style>\n",
    "<table class=\"tg\">\n",
    "  <tr>\n",
    "    <th class=\"tg-yw4l\">morning</th>\n",
    "    <th class=\"tg-yw4l\">2</th>\n",
    "    <th class=\"tg-yw4l\">4971</th>\n",
    "  </tr>\n",
    "</table>\n",
    "\n",
    "f.\n",
    "<style type=\"text/css\">\n",
    ".tg  {border-collapse:collapse;border-spacing:0;}\n",
    ".tg td{font-family:Arial, sans-serif;font-size:14px;padding:10px 5px;border-style:solid;border-width:1px;overflow:hidden;word-break:normal;}\n",
    ".tg th{font-family:Arial, sans-serif;font-size:14px;font-weight:normal;padding:10px 5px;border-style:solid;border-width:1px;overflow:hidden;word-break:normal;}\n",
    ".tg .tg-yw4l{vertical-align:top}\n",
    "</style>\n",
    "<table class=\"tg\">\n",
    "  <tr>\n",
    "    <th class=\"tg-yw4l\">morning</th>\n",
    "    <th class=\"tg-yw4l\">1</th>\n",
    "    <th class=\"tg-yw4l\">4970</th>\n",
    "  </tr>\n",
    "</table>\n",
    "\n",
    "**Answer:** c.\n",
    "\n",
    "For reference, here are some rows from the actual table:"
   ]
  },
  {
   "cell_type": "code",
   "execution_count": 5,
   "metadata": {
    "collapsed": false
   },
   "outputs": [
    {
     "data": {
      "text/html": [
       "<table border=\"1\" class=\"dataframe\">\n",
       "    <thead>\n",
       "        <tr>\n",
       "            <th>word</th> <th>chapter</th> <th>word's index in chapter</th>\n",
       "        </tr>\n",
       "    </thead>\n",
       "    <tbody>\n",
       "        <tr>\n",
       "            <td>ONE      </td> <td>1      </td> <td>0                      </td>\n",
       "        </tr>\n",
       "    </tbody>\n",
       "        <tr>\n",
       "            <td>PLAYING  </td> <td>1      </td> <td>1                      </td>\n",
       "        </tr>\n",
       "    </tbody>\n",
       "        <tr>\n",
       "            <td>PILGRIMS </td> <td>1      </td> <td>2                      </td>\n",
       "        </tr>\n",
       "    </tbody>\n",
       "        <tr>\n",
       "            <td>\"        </td> <td>1      </td> <td>3                      </td>\n",
       "        </tr>\n",
       "    </tbody>\n",
       "        <tr>\n",
       "            <td>Christmas</td> <td>1      </td> <td>4                      </td>\n",
       "        </tr>\n",
       "    </tbody>\n",
       "</table>\n",
       "<p>... (225315 rows omitted)</p"
      ],
      "text/plain": [
       "<IPython.core.display.HTML object>"
      ]
     },
     "metadata": {},
     "output_type": "display_data"
    },
    {
     "data": {
      "text/html": [
       "<table border=\"1\" class=\"dataframe\">\n",
       "    <thead>\n",
       "        <tr>\n",
       "            <th>word</th> <th>chapter</th> <th>word's index in chapter</th>\n",
       "        </tr>\n",
       "    </thead>\n",
       "    <tbody>\n",
       "        <tr>\n",
       "            <td>TWO      </td> <td>2      </td> <td>0                      </td>\n",
       "        </tr>\n",
       "    </tbody>\n",
       "        <tr>\n",
       "            <td>A        </td> <td>2      </td> <td>1                      </td>\n",
       "        </tr>\n",
       "    </tbody>\n",
       "        <tr>\n",
       "            <td>MERRY    </td> <td>2      </td> <td>2                      </td>\n",
       "        </tr>\n",
       "    </tbody>\n",
       "        <tr>\n",
       "            <td>CHRISTMAS</td> <td>2      </td> <td>3                      </td>\n",
       "        </tr>\n",
       "    </tbody>\n",
       "        <tr>\n",
       "            <td>Jo       </td> <td>2      </td> <td>4                      </td>\n",
       "        </tr>\n",
       "    </tbody>\n",
       "        <tr>\n",
       "            <td>was      </td> <td>2      </td> <td>5                      </td>\n",
       "        </tr>\n",
       "    </tbody>\n",
       "        <tr>\n",
       "            <td>the      </td> <td>2      </td> <td>6                      </td>\n",
       "        </tr>\n",
       "    </tbody>\n",
       "        <tr>\n",
       "            <td>first    </td> <td>2      </td> <td>7                      </td>\n",
       "        </tr>\n",
       "    </tbody>\n",
       "        <tr>\n",
       "            <td>to       </td> <td>2      </td> <td>8                      </td>\n",
       "        </tr>\n",
       "    </tbody>\n",
       "        <tr>\n",
       "            <td>wake     </td> <td>2      </td> <td>9                      </td>\n",
       "        </tr>\n",
       "    </tbody>\n",
       "        <tr>\n",
       "            <td>in       </td> <td>2      </td> <td>10                     </td>\n",
       "        </tr>\n",
       "    </tbody>\n",
       "        <tr>\n",
       "            <td>the      </td> <td>2      </td> <td>11                     </td>\n",
       "        </tr>\n",
       "    </tbody>\n",
       "        <tr>\n",
       "            <td>gray     </td> <td>2      </td> <td>12                     </td>\n",
       "        </tr>\n",
       "    </tbody>\n",
       "        <tr>\n",
       "            <td>dawn     </td> <td>2      </td> <td>13                     </td>\n",
       "        </tr>\n",
       "    </tbody>\n",
       "        <tr>\n",
       "            <td>of       </td> <td>2      </td> <td>14                     </td>\n",
       "        </tr>\n",
       "    </tbody>\n",
       "        <tr>\n",
       "            <td>Christmas</td> <td>2      </td> <td>15                     </td>\n",
       "        </tr>\n",
       "    </tbody>\n",
       "        <tr>\n",
       "            <td>morning  </td> <td>2      </td> <td>16                     </td>\n",
       "        </tr>\n",
       "    </tbody>\n",
       "        <tr>\n",
       "            <td>.        </td> <td>2      </td> <td>17                     </td>\n",
       "        </tr>\n",
       "    </tbody>\n",
       "        <tr>\n",
       "            <td>No       </td> <td>2      </td> <td>18                     </td>\n",
       "        </tr>\n",
       "    </tbody>\n",
       "        <tr>\n",
       "            <td>stockings</td> <td>2      </td> <td>19                     </td>\n",
       "        </tr>\n",
       "    </tbody>\n",
       "</table>\n",
       "<p>... (4777 rows omitted)</p"
      ],
      "text/plain": [
       "<IPython.core.display.HTML object>"
      ]
     },
     "metadata": {},
     "output_type": "display_data"
    }
   ],
   "source": [
    "# These lines import the Numpy and Datascience modules.\n",
    "import numpy as np\n",
    "from datascience import *\n",
    "\n",
    "# These lines do some fancy plotting magic.\n",
    "import matplotlib\n",
    "%matplotlib inline\n",
    "import matplotlib.pyplot as plt\n",
    "plt.style.use('fivethirtyeight')\n",
    "import warnings\n",
    "warnings.simplefilter('ignore', FutureWarning)\n",
    "\n",
    "little_women = Table.read_table(\"little_women.csv\")\n",
    "little_women.show(5)\n",
    "little_women.where(\"chapter\", 2).show(20)"
   ]
  },
  {
   "cell_type": "markdown",
   "metadata": {},
   "source": [
    "The word is in chapter 2.  The description of the `chapter` column said that the chapters start from 1 (not 0, like an index would), so chapter 2 will just have a 2.\n",
    "\n",
    "The word is the 17th word in chapter 2.  That means 16 words came before it in its chapter."
   ]
  },
  {
   "cell_type": "markdown",
   "metadata": {},
   "source": [
    "# 2.\n",
    "Suppose you wanted to count the number of words in each chapter.  Which line of code would do that?\n",
    "\n",
    "(Recall that the function `np.count_nonzero` takes an array as its argument and returns the number of elements in the array that are either `True` or a number other than 0.)\n",
    "\n",
    "a. `little_women.group(\"word\")`\n",
    "\n",
    "b. `little_women.group(\"chapter\")`\n",
    "\n",
    "c. `little_women.group(\"word's index in chapter\")`\n",
    "\n",
    "d. `little_women.group(\"word\", np.sum)`\n",
    "\n",
    "e. `little_women.where(\"word\", \"chapter\")`\n",
    "\n",
    "f. `little_women.pivot(\"word\", \"chapter\")`\n",
    "\n",
    "g. `np.count_nonzero(little_women.column(\"chapter\"))`\n",
    "\n",
    "h. None of these would work."
   ]
  },
  {
   "cell_type": "markdown",
   "metadata": {},
   "source": [
    "**Answer:** b.\n",
    "\n",
    "This is a straightforward use of `group`: when we give it just a column name, it counts the number of times each different value appears in that column."
   ]
  },
  {
   "cell_type": "markdown",
   "metadata": {},
   "source": [
    "Suppose you wanted to count the number of times each character's name appears in each chapter.  You decide to do this by writing the following code:"
   ]
  },
  {
   "cell_type": "code",
   "execution_count": 9,
   "metadata": {
    "collapsed": false
   },
   "outputs": [
    {
     "data": {
      "text/html": [
       "<table border=\"1\" class=\"dataframe\">\n",
       "    <thead>\n",
       "        <tr>\n",
       "            <th>chapter</th> <th>Amy</th> <th>Beth</th> <th>Jo</th> <th>Laurie</th> <th>Meg</th>\n",
       "        </tr>\n",
       "    </thead>\n",
       "    <tbody>\n",
       "        <tr>\n",
       "            <td>1      </td> <td>23  </td> <td>24  </td> <td>40  </td> <td>0     </td> <td>26  </td>\n",
       "        </tr>\n",
       "    </tbody>\n",
       "        <tr>\n",
       "            <td>2      </td> <td>11  </td> <td>11  </td> <td>20  </td> <td>0     </td> <td>19  </td>\n",
       "        </tr>\n",
       "    </tbody>\n",
       "        <tr>\n",
       "            <td>3      </td> <td>2   </td> <td>2   </td> <td>53  </td> <td>15    </td> <td>32  </td>\n",
       "        </tr>\n",
       "    </tbody>\n",
       "        <tr>\n",
       "            <td>4      </td> <td>12  </td> <td>14  </td> <td>26  </td> <td>0     </td> <td>17  </td>\n",
       "        </tr>\n",
       "    </tbody>\n",
       "        <tr>\n",
       "            <td>5      </td> <td>5   </td> <td>12  </td> <td>50  </td> <td>32    </td> <td>13  </td>\n",
       "        </tr>\n",
       "    </tbody>\n",
       "        <tr>\n",
       "            <td>6      </td> <td>6   </td> <td>27  </td> <td>11  </td> <td>7     </td> <td>5   </td>\n",
       "        </tr>\n",
       "    </tbody>\n",
       "        <tr>\n",
       "            <td>7      </td> <td>23  </td> <td>5   </td> <td>9   </td> <td>7     </td> <td>5   </td>\n",
       "        </tr>\n",
       "    </tbody>\n",
       "        <tr>\n",
       "            <td>8      </td> <td>46  </td> <td>9   </td> <td>60  </td> <td>16    </td> <td>16  </td>\n",
       "        </tr>\n",
       "    </tbody>\n",
       "        <tr>\n",
       "            <td>9      </td> <td>3   </td> <td>4   </td> <td>20  </td> <td>23    </td> <td>69  </td>\n",
       "        </tr>\n",
       "    </tbody>\n",
       "        <tr>\n",
       "            <td>10     </td> <td>3   </td> <td>4   </td> <td>8   </td> <td>4     </td> <td>2   </td>\n",
       "        </tr>\n",
       "    </tbody>\n",
       "</table>\n",
       "<p>... (37 rows omitted)</p"
      ],
      "text/plain": [
       "chapter | Amy  | Beth | Jo   | Laurie | Meg\n",
       "1       | 23   | 24   | 40   | 0      | 26\n",
       "2       | 11   | 11   | 20   | 0      | 19\n",
       "3       | 2    | 2    | 53   | 15     | 32\n",
       "4       | 12   | 14   | 26   | 0      | 17\n",
       "5       | 5    | 12   | 50   | 32     | 13\n",
       "6       | 6    | 27   | 11   | 7      | 5\n",
       "7       | 23   | 5    | 9    | 7      | 5\n",
       "8       | 46   | 9    | 60   | 16     | 16\n",
       "9       | 3    | 4    | 20   | 23     | 69\n",
       "10      | 3    | 4    | 8    | 4      | 2\n",
       "... (37 rows omitted)"
      ]
     },
     "execution_count": 9,
     "metadata": {},
     "output_type": "execute_result"
    }
   ],
   "source": [
    "# This is an array of some of the main characters in the book.\n",
    "CHARACTER_NAMES = np.array(['Jo', 'Meg', 'Amy', 'Beth', 'Laurie'])\n",
    "\n",
    "def is_name(word):\n",
    "    \"\"\"\n",
    "    Returns True if word is a name of a major character in\n",
    "    Little Women (listed above), and False otherwise.\n",
    "    \n",
    "    word should be a string, an English word.\n",
    "    \"\"\"\n",
    "    ... # You'll fill this in in question 3.\n",
    "\n",
    "only_names = little_women.where(little_women.apply(is_name, ['word']))\n",
    "character_count_by_chapter = only_names.pivot('word', 'chapter')\n",
    "character_count_by_chapter"
   ]
  },
  {
   "cell_type": "markdown",
   "metadata": {},
   "source": [
    "# 3.\n",
    "What should go in the body of the function `is_name` above to make it work like its documentation says it does?\n",
    "\n",
    "(Recall that the function `np.any` takes an array of boolean values as its argument and returns the single boolean value `True` if any elements of the array are `True`, returning `False` if none of them are `True`.  The function `np.all` takes an array of boolean values as its argument and returns the single boolean value `True` if all elements of the array are `True`, returning `False` if at least one is `False`.)\n",
    "\n",
    "a. `return CHARACTER_NAMES == word`\n",
    "\n",
    "b. `return CHARACTER_NAMES.item(i) == word`\n",
    "\n",
    "c. `return np.any(CHARACTER_NAMES == word)`\n",
    "\n",
    "d. `return np.all(CHARACTER_NAMES == word)`\n",
    "\n",
    "e. `return np.all(CHARACTER_NAMES)`\n",
    "\n",
    "f. `return CHARACTER_NAMES.item(word)`\n",
    "\n",
    "g. None of these would work."
   ]
  },
  {
   "cell_type": "markdown",
   "metadata": {},
   "source": [
    "**Answer:** c.\n",
    "\n",
    "It helps to break down these things into simpler components and understand each one.  `CHARACTER_NAMES` is an array of character names, and `word` is a single string (like \"the\" or \"Jo\").  So the expression `CHARACTER_NAMES == word` is performing an elementwise comparison: Its value is an array of length `len(CHARACTER_NAMES)`, where the first value is `True` if `word` was equal to \"Jo\", the second value is `True` if `word` was equal to \"Meg\", and so on.\n",
    "\n",
    "Now, calling `np.any` on that array of boolean values will give us the value `True` if any of the values in that array are `True`.  In English, it will be `True` if `word` was equal to at least one character's name.  That's what we want."
   ]
  },
  {
   "cell_type": "markdown",
   "metadata": {},
   "source": [
    "# 4.\n",
    "Many chapters focus on one character to the exclusion of others.  Suppose we have a function called `correlation` that computes the correlation between two arrays of numbers of equal length.  Would you guess the value of the line in this cell:"
   ]
  },
  {
   "cell_type": "code",
   "execution_count": null,
   "metadata": {
    "collapsed": false
   },
   "outputs": [],
   "source": [
    "correlation(character_count_by_chapter.column('Amy'), character_count_by_chapter.column('Meg'))"
   ]
  },
  {
   "cell_type": "markdown",
   "metadata": {},
   "source": [
    "to be:\n",
    "\n",
    "a. Positive\n",
    "\n",
    "b. Negative\n",
    "\n",
    "c. Around 0\n",
    "\n",
    "d. (The given information doesn't tell us anything about this question.)"
   ]
  },
  {
   "cell_type": "markdown",
   "metadata": {},
   "source": [
    "**Answer:** b (Negative).\n",
    "\n",
    "First let's make a scatter plot just to picture what the data might look like.  You didn't have access to the actual data when answering the question."
   ]
  },
  {
   "cell_type": "code",
   "execution_count": 13,
   "metadata": {
    "collapsed": false
   },
   "outputs": [
    {
     "data": {
      "image/png": "[encoded data removed]",
      "text/plain": [
       "<matplotlib.figure.Figure at 0x10b03ecf8>"
      ]
     },
     "metadata": {},
     "output_type": "display_data"
    }
   ],
   "source": [
    "character_count_by_chapter.scatter('Amy', 'Meg')"
   ]
  },
  {
   "cell_type": "markdown",
   "metadata": {},
   "source": [
    "When one character appears a lot of times in a chapter, that tends to mean the chapter focuses on that character, which leaves less time for other characters to appear.  So we'd expect one character to appear less when another appears more.  That means the correlation between Amy's appearances by chapter and Meg's appearances by chapter is probably negative.  (With the benefit of the actual data, we can see that that's actually true!)"
   ]
  },
  {
   "cell_type": "markdown",
   "metadata": {},
   "source": [
    "# 5.\n",
    "Around chapter 30, Amy and Laurie fall in love and marry.  Would you guess the value of the second line in this cell:"
   ]
  },
  {
   "cell_type": "code",
   "execution_count": null,
   "metadata": {
    "collapsed": false
   },
   "outputs": [],
   "source": [
    "after_30 = character_count_by_chapter.where(character_count_by_chapter.column('chapter') > 30)\n",
    "correlation(after_30.column('Amy'), after_30.column('Laurie'))"
   ]
  },
  {
   "cell_type": "markdown",
   "metadata": {},
   "source": [
    "to be:\n",
    "\n",
    "a. Positive\n",
    "\n",
    "b. Negative\n",
    "\n",
    "c. Around 0\n",
    "\n",
    "d. (The given information doesn't tell us anything about this question.)"
   ]
  },
  {
   "cell_type": "markdown",
   "metadata": {},
   "source": [
    "**Answer:** a (Positive).\n",
    "\n",
    "The logic we used in question 4 doesn't really apply if two characters often appear together and less often appear separately, as we'd reasonably expect for characters who are falling in love.  When Amy is mentioned a lot in a chapter, Laurie is probably there, too.  So the correlation is likely positive.\n",
    "\n",
    "(Before chapter 30, when the characters aren't romantically involved, the correlation is much smaller.)"
   ]
  }
 ],
 "metadata": {
  "kernelspec": {
   "display_name": "Python 3",
   "language": "python",
   "name": "python3"
  },
  "language_info": {
   "codemirror_mode": {
    "name": "ipython",
    "version": 3
   },
   "file_extension": ".py",
   "mimetype": "text/x-python",
   "name": "python",
   "nbconvert_exporter": "python",
   "pygments_lexer": "ipython3",
   "version": "3.4.4"
  }
 },
 "nbformat": 4,
 "nbformat_minor": 0
}
