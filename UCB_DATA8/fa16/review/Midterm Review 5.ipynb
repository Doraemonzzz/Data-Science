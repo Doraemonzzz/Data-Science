{
 "cells": [
  {
   "cell_type": "markdown",
   "metadata": {},
   "source": [
    "# Midterm Review 5: Little Women\n",
    "In the first lecture of this class, we analyzed the text of the 19th century novel Little Women.  We're going to perform a similar analysis.\n",
    "\n",
    "We start by loading a table called `little_women`.  It contains 1 row for each time a word appears in the book.  (So if the word \"Christmas\" appears 50 times in the whole book, there will be 50 different rows for \"Christmas\" in `little_women`.)  It has 3 columns:\n",
    "* `word`, the word itself\n",
    "* `chapter`, the number of the chapter in which the word appears (the book's chapters start from 1)\n",
    "* `word's index in chapter`, the number of words that came before the word in its chapter\n",
    "\n",
    "# 1.\n",
    "The word \"morning\" is the 17th word in chapter 2.  Chapter 1 had 4954 words in it.  Which of these does the corresponding row in `little_women` look like?\n",
    "\n",
    "a.\n",
    "<style type=\"text/css\">\n",
    ".tg  {border-collapse:collapse;border-spacing:0;}\n",
    ".tg td{font-family:Arial, sans-serif;font-size:14px;padding:10px 5px;border-style:solid;border-width:1px;overflow:hidden;word-break:normal;}\n",
    ".tg th{font-family:Arial, sans-serif;font-size:14px;font-weight:normal;padding:10px 5px;border-style:solid;border-width:1px;overflow:hidden;word-break:normal;}\n",
    ".tg .tg-yw4l{vertical-align:top}\n",
    "</style>\n",
    "<table class=\"tg\">\n",
    "  <tr>\n",
    "    <th class=\"tg-yw4l\">morning</th>\n",
    "    <th class=\"tg-yw4l\">2</th>\n",
    "    <th class=\"tg-yw4l\">17</th>\n",
    "  </tr>\n",
    "</table>\n",
    "\n",
    "b.\n",
    "<style type=\"text/css\">\n",
    ".tg  {border-collapse:collapse;border-spacing:0;}\n",
    ".tg td{font-family:Arial, sans-serif;font-size:14px;padding:10px 5px;border-style:solid;border-width:1px;overflow:hidden;word-break:normal;}\n",
    ".tg th{font-family:Arial, sans-serif;font-size:14px;font-weight:normal;padding:10px 5px;border-style:solid;border-width:1px;overflow:hidden;word-break:normal;}\n",
    ".tg .tg-yw4l{vertical-align:top}\n",
    "</style>\n",
    "<table class=\"tg\">\n",
    "  <tr>\n",
    "    <th class=\"tg-yw4l\">morning</th>\n",
    "    <th class=\"tg-yw4l\">1</th>\n",
    "    <th class=\"tg-yw4l\">17</th>\n",
    "  </tr>\n",
    "</table>\n",
    "\n",
    "c.\n",
    "<style type=\"text/css\">\n",
    ".tg  {border-collapse:collapse;border-spacing:0;}\n",
    ".tg td{font-family:Arial, sans-serif;font-size:14px;padding:10px 5px;border-style:solid;border-width:1px;overflow:hidden;word-break:normal;}\n",
    ".tg th{font-family:Arial, sans-serif;font-size:14px;font-weight:normal;padding:10px 5px;border-style:solid;border-width:1px;overflow:hidden;word-break:normal;}\n",
    ".tg .tg-yw4l{vertical-align:top}\n",
    "</style>\n",
    "<table class=\"tg\">\n",
    "  <tr>\n",
    "    <th class=\"tg-yw4l\">morning</th>\n",
    "    <th class=\"tg-yw4l\">2</th>\n",
    "    <th class=\"tg-yw4l\">16</th>\n",
    "  </tr>\n",
    "</table>\n",
    "\n",
    "d.\n",
    "<style type=\"text/css\">\n",
    ".tg  {border-collapse:collapse;border-spacing:0;}\n",
    ".tg td{font-family:Arial, sans-serif;font-size:14px;padding:10px 5px;border-style:solid;border-width:1px;overflow:hidden;word-break:normal;}\n",
    ".tg th{font-family:Arial, sans-serif;font-size:14px;font-weight:normal;padding:10px 5px;border-style:solid;border-width:1px;overflow:hidden;word-break:normal;}\n",
    ".tg .tg-yw4l{vertical-align:top}\n",
    "</style>\n",
    "<table class=\"tg\">\n",
    "  <tr>\n",
    "    <th class=\"tg-yw4l\">morning</th>\n",
    "    <th class=\"tg-yw4l\">1</th>\n",
    "    <th class=\"tg-yw4l\">16</th>\n",
    "  </tr>\n",
    "</table>\n",
    "\n",
    "e.\n",
    "<style type=\"text/css\">\n",
    ".tg  {border-collapse:collapse;border-spacing:0;}\n",
    ".tg td{font-family:Arial, sans-serif;font-size:14px;padding:10px 5px;border-style:solid;border-width:1px;overflow:hidden;word-break:normal;}\n",
    ".tg th{font-family:Arial, sans-serif;font-size:14px;font-weight:normal;padding:10px 5px;border-style:solid;border-width:1px;overflow:hidden;word-break:normal;}\n",
    ".tg .tg-yw4l{vertical-align:top}\n",
    "</style>\n",
    "<table class=\"tg\">\n",
    "  <tr>\n",
    "    <th class=\"tg-yw4l\">morning</th>\n",
    "    <th class=\"tg-yw4l\">2</th>\n",
    "    <th class=\"tg-yw4l\">4971</th>\n",
    "  </tr>\n",
    "</table>\n",
    "\n",
    "f.\n",
    "<style type=\"text/css\">\n",
    ".tg  {border-collapse:collapse;border-spacing:0;}\n",
    ".tg td{font-family:Arial, sans-serif;font-size:14px;padding:10px 5px;border-style:solid;border-width:1px;overflow:hidden;word-break:normal;}\n",
    ".tg th{font-family:Arial, sans-serif;font-size:14px;font-weight:normal;padding:10px 5px;border-style:solid;border-width:1px;overflow:hidden;word-break:normal;}\n",
    ".tg .tg-yw4l{vertical-align:top}\n",
    "</style>\n",
    "<table class=\"tg\">\n",
    "  <tr>\n",
    "    <th class=\"tg-yw4l\">morning</th>\n",
    "    <th class=\"tg-yw4l\">1</th>\n",
    "    <th class=\"tg-yw4l\">4970</th>\n",
    "  </tr>\n",
    "</table>"
   ]
  },
  {
   "cell_type": "markdown",
   "metadata": {},
   "source": [
    "# 2.\n",
    "Suppose you wanted to count the number of words in each chapter.  Which line of code would do that?\n",
    "\n",
    "(Recall that the function `np.count_nonzero` takes an array as its argument and returns the number of elements in the array that are either `True` or a number other than 0.)\n",
    "\n",
    "a. `little_women.group(\"word\")`\n",
    "\n",
    "b. `little_women.group(\"chapter\")`\n",
    "\n",
    "c. `little_women.group(\"word's index in chapter\")`\n",
    "\n",
    "d. `little_women.group(\"word\", np.sum)`\n",
    "\n",
    "e. `little_women.where(\"word\", \"chapter\")`\n",
    "\n",
    "f. `little_women.pivot(\"word\", \"chapter\")`\n",
    "\n",
    "g. `np.count_nonzero(little_women.column(\"chapter\"))`\n",
    "\n",
    "h. None of these would work."
   ]
  },
  {
   "cell_type": "markdown",
   "metadata": {},
   "source": [
    "Suppose you wanted to count the number of times each character's name appears in each chapter.  You decide to do this by writing the following code:"
   ]
  },
  {
   "cell_type": "code",
   "execution_count": 80,
   "metadata": {
    "collapsed": false
   },
   "outputs": [
    {
     "data": {
      "text/html": [
       "<table border=\"1\" class=\"dataframe\">\n",
       "    <thead>\n",
       "        <tr>\n",
       "            <th>chapter</th> <th>Amy</th> <th>Beth</th> <th>Jo</th> <th>Laurie</th> <th>Meg</th>\n",
       "        </tr>\n",
       "    </thead>\n",
       "    <tbody>\n",
       "        <tr>\n",
       "            <td>1      </td> <td>23  </td> <td>24  </td> <td>40  </td> <td>0     </td> <td>26  </td>\n",
       "        </tr>\n",
       "    </tbody>\n",
       "        <tr>\n",
       "            <td>2      </td> <td>11  </td> <td>11  </td> <td>20  </td> <td>0     </td> <td>19  </td>\n",
       "        </tr>\n",
       "    </tbody>\n",
       "        <tr>\n",
       "            <td>3      </td> <td>2   </td> <td>2   </td> <td>53  </td> <td>15    </td> <td>32  </td>\n",
       "        </tr>\n",
       "    </tbody>\n",
       "        <tr>\n",
       "            <td>4      </td> <td>12  </td> <td>14  </td> <td>26  </td> <td>0     </td> <td>17  </td>\n",
       "        </tr>\n",
       "    </tbody>\n",
       "        <tr>\n",
       "            <td>5      </td> <td>5   </td> <td>12  </td> <td>50  </td> <td>32    </td> <td>13  </td>\n",
       "        </tr>\n",
       "    </tbody>\n",
       "        <tr>\n",
       "            <td>6      </td> <td>6   </td> <td>27  </td> <td>11  </td> <td>7     </td> <td>5   </td>\n",
       "        </tr>\n",
       "    </tbody>\n",
       "        <tr>\n",
       "            <td>7      </td> <td>23  </td> <td>5   </td> <td>9   </td> <td>7     </td> <td>5   </td>\n",
       "        </tr>\n",
       "    </tbody>\n",
       "        <tr>\n",
       "            <td>8      </td> <td>46  </td> <td>9   </td> <td>60  </td> <td>16    </td> <td>16  </td>\n",
       "        </tr>\n",
       "    </tbody>\n",
       "        <tr>\n",
       "            <td>9      </td> <td>3   </td> <td>4   </td> <td>20  </td> <td>23    </td> <td>69  </td>\n",
       "        </tr>\n",
       "    </tbody>\n",
       "        <tr>\n",
       "            <td>10     </td> <td>3   </td> <td>4   </td> <td>8   </td> <td>4     </td> <td>2   </td>\n",
       "        </tr>\n",
       "    </tbody>\n",
       "</table>\n",
       "<p>... (37 rows omitted)</p"
      ],
      "text/plain": [
       "chapter | Amy  | Beth | Jo   | Laurie | Meg\n",
       "1       | 23   | 24   | 40   | 0      | 26\n",
       "2       | 11   | 11   | 20   | 0      | 19\n",
       "3       | 2    | 2    | 53   | 15     | 32\n",
       "4       | 12   | 14   | 26   | 0      | 17\n",
       "5       | 5    | 12   | 50   | 32     | 13\n",
       "6       | 6    | 27   | 11   | 7      | 5\n",
       "7       | 23   | 5    | 9    | 7      | 5\n",
       "8       | 46   | 9    | 60   | 16     | 16\n",
       "9       | 3    | 4    | 20   | 23     | 69\n",
       "10      | 3    | 4    | 8    | 4      | 2\n",
       "... (37 rows omitted)"
      ]
     },
     "execution_count": 80,
     "metadata": {},
     "output_type": "execute_result"
    }
   ],
   "source": [
    "# This is an array of some of the main characters in the book.\n",
    "CHARACTER_NAMES = np.array(['Jo', 'Meg', 'Amy', 'Beth', 'Laurie'])\n",
    "\n",
    "def is_name(word):\n",
    "    \"\"\"\n",
    "    Returns True if word is a name of a major character in\n",
    "    Little Women (listed above), and False otherwise.\n",
    "    \n",
    "    word should be a string, an English word.\n",
    "    \"\"\"\n",
    "    ... # You'll fill this in in question 3.\n",
    "\n",
    "only_names = little_women.where(little_women.apply(is_name, ['word']))\n",
    "character_count_by_chapter = only_names.pivot('word', 'chapter')\n",
    "character_count_by_chapter"
   ]
  },
  {
   "cell_type": "markdown",
   "metadata": {},
   "source": [
    "# 3.\n",
    "What should go in the body of the function `is_name` above to make it work like its documentation says it does?\n",
    "\n",
    "(Recall that the function `np.any` takes an array of boolean values as its argument and returns the single boolean value `True` if any elements of the array are `True`, returning `False` if none of them are `True`.  The function `np.all` takes an array of boolean values as its argument and returns the single boolean value `True` if all elements of the array are `True`, returning `False` if at least one is `False`.)\n",
    "\n",
    "a. `return CHARACTER_NAMES == word`\n",
    "\n",
    "b. `return CHARACTER_NAMES.item(i) == word`\n",
    "\n",
    "c. `return np.any(CHARACTER_NAMES == word)`\n",
    "\n",
    "d. `return np.all(CHARACTER_NAMES == word)`\n",
    "\n",
    "e. `return np.all(CHARACTER_NAMES)`\n",
    "\n",
    "f. `return CHARACTER_NAMES.item(word)`\n",
    "\n",
    "g. None of these would work."
   ]
  },
  {
   "cell_type": "markdown",
   "metadata": {},
   "source": [
    "# 4.\n",
    "Many chapters focus on one character to the exclusion of others.  Suppose we have a function called `correlation` that computes the correlation between two arrays of numbers of equal length.  Would you guess the value of the line in this cell:"
   ]
  },
  {
   "cell_type": "code",
   "execution_count": null,
   "metadata": {
    "collapsed": false
   },
   "outputs": [],
   "source": [
    "correlation(character_count_by_chapter.column('Amy'), character_count_by_chapter.column('Meg'))"
   ]
  },
  {
   "cell_type": "markdown",
   "metadata": {},
   "source": [
    "to be:\n",
    "\n",
    "a. Positive\n",
    "\n",
    "b. Negative\n",
    "\n",
    "c. Around 0\n",
    "\n",
    "d. (The given information doesn't tell us anything about this question.)"
   ]
  },
  {
   "cell_type": "markdown",
   "metadata": {},
   "source": [
    "# 5.\n",
    "Around chapter 30, Amy and Laurie fall in love and marry.  Would you guess the value of the second line in this cell:"
   ]
  },
  {
   "cell_type": "code",
   "execution_count": null,
   "metadata": {
    "collapsed": false
   },
   "outputs": [],
   "source": [
    "after_30 = character_count_by_chapter.where(character_count_by_chapter.column('chapter') > 30)\n",
    "correlation(after_30.column('Amy'), after_30.column('Laurie'))"
   ]
  },
  {
   "cell_type": "markdown",
   "metadata": {},
   "source": [
    "to be:\n",
    "\n",
    "a. Positive\n",
    "\n",
    "b. Negative\n",
    "\n",
    "c. Around 0\n",
    "\n",
    "d. (The given information doesn't tell us anything about this question.)"
   ]
  }
 ],
 "metadata": {
  "kernelspec": {
   "display_name": "Python 3",
   "language": "python",
   "name": "python3"
  },
  "language_info": {
   "codemirror_mode": {
    "name": "ipython",
    "version": 3
   },
   "file_extension": ".py",
   "mimetype": "text/x-python",
   "name": "python",
   "nbconvert_exporter": "python",
   "pygments_lexer": "ipython3",
   "version": "3.4.4"
  }
 },
 "nbformat": 4,
 "nbformat_minor": 0
}
