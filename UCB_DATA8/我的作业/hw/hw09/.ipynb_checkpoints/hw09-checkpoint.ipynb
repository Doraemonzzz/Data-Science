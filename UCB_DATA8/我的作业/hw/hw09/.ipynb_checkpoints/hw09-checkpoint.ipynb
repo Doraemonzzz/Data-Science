{
 "cells": [
  {
   "cell_type": "markdown",
   "metadata": {},
   "source": [
    "# Homework 9: Correlation, Regression, and Least Squares\n",
    "\n",
    "Please complete this notebook by filling in the cells provided. When you’re done, follow the instructions in [this short explainer video](https://www.youtube.com/watch?v=gMt_Rq43y_4&ab_channel=FahadKamran) to submit your homework.\n",
    "\n",
    "If you cannot submit online, come to office hours for assistance. The office hours\n",
    "schedule appears on [data8.org/fa16/weekly.html](http://data8.org/fa16/weekly.html).\n",
    "\n",
    "This assignment is due Thursday, November 10 at 7PM. You will receive an early submission bonus point if you turn it in by Wednesday, November 3 at 7PM. Directly sharing answers is not okay, but discussing problems with course staff or with other students is encouraged.\n",
    "\n",
    "**Important note:** Only Parts 1 and 2 of this assignment will be graded.  Parts 3 and 4 of this assignment will not be graded and are intended to give you extra practice.\n",
    "\n",
    "Reading:\n",
    "- Textbook chapter [12](https://www.inferentialthinking.com/chapters/12/why-the-mean-matters.html) (for review)\n",
    "- Textbook chapter [13](https://www.inferentialthinking.com/chapters/13/prediction.html)"
   ]
  },
  {
   "cell_type": "markdown",
   "metadata": {},
   "source": [
    "Run the cell below to prepare the notebook."
   ]
  },
  {
   "cell_type": "code",
   "execution_count": 1,
   "metadata": {},
   "outputs": [
    {
     "name": "stdout",
     "output_type": "stream",
     "text": [
      "=====================================================================\n",
      "Assignment: Homework 9: Correlation, Regression, and Least Squares\n",
      "OK, version v1.13.11\n",
      "=====================================================================\n",
      "\n"
     ]
    },
    {
     "name": "stderr",
     "output_type": "stream",
     "text": [
      "WARNING  | guidance.py:102 | Failed to read .ok_guidance file. It may not exist\n"
     ]
    }
   ],
   "source": [
    "# Run this cell to set up the notebook, but please don't change it.\n",
    "import numpy as np\n",
    "from datascience import *\n",
    "\n",
    "# These lines do some fancy plotting magic.\n",
    "import matplotlib\n",
    "%matplotlib inline\n",
    "import matplotlib.pyplot as plt\n",
    "plt.style.use('fivethirtyeight')\n",
    "import warnings\n",
    "warnings.simplefilter('ignore', FutureWarning)\n",
    "from matplotlib import patches\n",
    "from ipywidgets import interact, interactive, fixed\n",
    "import ipywidgets as widgets\n",
    "\n",
    "from client.api.assignment import load_assignment\n",
    "tests = load_assignment('hw09.ok')"
   ]
  },
  {
   "cell_type": "markdown",
   "metadata": {},
   "source": [
    "<div class=\"hide\">\\pagebreak</div>\n",
    "## Evaluating NBA Game Predictions"
   ]
  },
  {
   "cell_type": "markdown",
   "metadata": {},
   "source": [
    "#### A brief introduction to sports betting\n",
    "In a basketball game, each team scores some number of points.  Conventionally, the team playing at its own arena is called the \"home team,\" and the other team is called the \"away team.\"  The winner, of course, is the team with the most points.  So we could summarize what happened in a game by the following number:\n",
    "\n",
    "$$\\text{outcome} = \\text{points scored by the away team} - \\text{points scored by the home team}$$\n",
    "\n",
    "If this number is positive, the away team won.  If it's negative, the home team won.  For brevity, we'll use the shorthand **\"outcome\"** for **the away team's score minus the home team's score**.\n",
    "\n",
    "Casinos in Las Vegas offer bets on the outcomes of NBA games.  One kind of bet works like this:\n",
    "\n",
    "1. The casino decides on a \"spread.\"\n",
    "2. You can bet \\$11 that the outcome will be above the spread, or \\$11 that the outcome will be below the spread.\n",
    "3. After the game, you end up with \\$21 if you guessed correctly, and \\$0 if you guessed incorrectly.\n",
    "\n",
    "The analysts at the casino try to choose the spread so that (according to their analysis of the teams) there is a 50% chance that the outcome will be below that amount, and a 50% chance that the outcome will be above that amount.\n",
    "\n",
    "**[tl;dr](https://en.wikipedia.org/wiki/Wikipedia:Too_long;_didn%27t_read): The spread is the casino's best guess at the outcome (the away team's score minus the home team's score).**\n",
    "\n",
    "The table `spreads` contains spreads from the betting website [Covers](http://www.covers.com) from every game in the 2014 NBA season, plus actual game outcomes.  "
   ]
  },
  {
   "cell_type": "code",
   "execution_count": 2,
   "metadata": {},
   "outputs": [
    {
     "data": {
      "text/html": [
       "<table border=\"1\" class=\"dataframe\">\n",
       "    <thead>\n",
       "        <tr>\n",
       "            <th>Date</th> <th>Home Team</th> <th>Away Team</th> <th>Home Points</th> <th>Away Points</th> <th>Outcome</th> <th>Spread</th>\n",
       "        </tr>\n",
       "    </thead>\n",
       "    <tbody>\n",
       "        <tr>\n",
       "            <td>4/10/2015 </td> <td>Utah         </td> <td>Memphis    </td> <td>88         </td> <td>89         </td> <td>1      </td> <td>2.5   </td>\n",
       "        </tr>\n",
       "    </tbody>\n",
       "        <tr>\n",
       "            <td>3/10/2015 </td> <td>Utah         </td> <td>New York   </td> <td>87         </td> <td>82         </td> <td>-5     </td> <td>-13   </td>\n",
       "        </tr>\n",
       "    </tbody>\n",
       "        <tr>\n",
       "            <td>11/19/2014</td> <td>Indiana      </td> <td>Charlotte  </td> <td>88         </td> <td>86         </td> <td>-2     </td> <td>-2    </td>\n",
       "        </tr>\n",
       "    </tbody>\n",
       "        <tr>\n",
       "            <td>11/15/2014</td> <td>Chicago      </td> <td>Indiana    </td> <td>90         </td> <td>99         </td> <td>9      </td> <td>-9    </td>\n",
       "        </tr>\n",
       "    </tbody>\n",
       "        <tr>\n",
       "            <td>3/25/2015 </td> <td>Utah         </td> <td>Portland   </td> <td>89         </td> <td>92         </td> <td>3      </td> <td>-2    </td>\n",
       "        </tr>\n",
       "    </tbody>\n",
       "        <tr>\n",
       "            <td>3/3/2015  </td> <td>Memphis      </td> <td>Utah       </td> <td>82         </td> <td>93         </td> <td>11     </td> <td>-7    </td>\n",
       "        </tr>\n",
       "    </tbody>\n",
       "        <tr>\n",
       "            <td>3/18/2015 </td> <td>Utah         </td> <td>Washington </td> <td>84         </td> <td>88         </td> <td>4      </td> <td>-3    </td>\n",
       "        </tr>\n",
       "    </tbody>\n",
       "        <tr>\n",
       "            <td>3/16/2015 </td> <td>Utah         </td> <td>Charlotte  </td> <td>94         </td> <td>66         </td> <td>-28    </td> <td>-4.5  </td>\n",
       "        </tr>\n",
       "    </tbody>\n",
       "        <tr>\n",
       "            <td>1/24/2015 </td> <td>Charlotte    </td> <td>New York   </td> <td>76         </td> <td>71         </td> <td>-5     </td> <td>-9    </td>\n",
       "        </tr>\n",
       "    </tbody>\n",
       "        <tr>\n",
       "            <td>11/7/2014 </td> <td>Oklahoma City</td> <td>Memphis    </td> <td>89         </td> <td>91         </td> <td>2      </td> <td>7     </td>\n",
       "        </tr>\n",
       "    </tbody>\n",
       "</table>\n",
       "<p>... (1220 rows omitted)</p>"
      ],
      "text/plain": [
       "Date       | Home Team     | Away Team   | Home Points | Away Points | Outcome | Spread\n",
       "4/10/2015  | Utah          | Memphis     | 88          | 89          | 1       | 2.5\n",
       "3/10/2015  | Utah          | New York    | 87          | 82          | -5      | -13\n",
       "11/19/2014 | Indiana       | Charlotte   | 88          | 86          | -2      | -2\n",
       "11/15/2014 | Chicago       | Indiana     | 90          | 99          | 9       | -9\n",
       "3/25/2015  | Utah          | Portland    | 89          | 92          | 3       | -2\n",
       "3/3/2015   | Memphis       | Utah        | 82          | 93          | 11      | -7\n",
       "3/18/2015  | Utah          | Washington  | 84          | 88          | 4       | -3\n",
       "3/16/2015  | Utah          | Charlotte   | 94          | 66          | -28     | -4.5\n",
       "1/24/2015  | Charlotte     | New York    | 76          | 71          | -5      | -9\n",
       "11/7/2014  | Oklahoma City | Memphis     | 89          | 91          | 2       | 7\n",
       "... (1220 rows omitted)"
      ]
     },
     "execution_count": 2,
     "metadata": {},
     "output_type": "execute_result"
    }
   ],
   "source": [
    "spreads = Table.read_table(\"spreads.csv\")\n",
    "spreads"
   ]
  },
  {
   "cell_type": "markdown",
   "metadata": {},
   "source": [
    "<div class=\"hide\">\\pagebreak</div>\n",
    "#### Question 1\n",
    "Make a scatter plot of the outcomes and spreads, with the spreads on the horizontal axis."
   ]
  },
  {
   "cell_type": "code",
   "execution_count": 3,
   "metadata": {},
   "outputs": [
    {
     "data": {
      "image/png": "[encoded data removed]",
      "text/plain": [
       "<matplotlib.figure.Figure at 0x15b4fc90400>"
      ]
     },
     "metadata": {},
     "output_type": "display_data"
    }
   ],
   "source": [
    "spreads.scatter('Outcome','Spread')"
   ]
  },
  {
   "cell_type": "markdown",
   "metadata": {},
   "source": [
    "<div class=\"hide\">\\pagebreak</div>\n",
    "You might notice that spreads and outcomes are (almost) never 0.  It's because a game of basketball never ends in a tie; one team has to win.\n",
    "\n",
    "Let's investigate how well the casinos are predicting game outcomes.\n",
    "\n",
    "One question we can ask is: Is the casino's prediction correct on average? In other words, for every value of the spread, is the average outcome of games assigned that spread equal to the spread? If not, the casino would apparently be making a systematic error in its predictions.\n",
    "\n",
    "#### Question 2\n",
    "Among games with a spread around 5 (concretely: in the range $[3.5, 6.5]$), what was the average outcome?"
   ]
  },
  {
   "cell_type": "code",
   "execution_count": 4,
   "metadata": {},
   "outputs": [
    {
     "name": "stdout",
     "output_type": "stream",
     "text": [
      "Average outcome: 4.6514084507\n"
     ]
    }
   ],
   "source": [
    "spreads_around_5 = spreads.where('Spread',are.between(3.5,6.5)).column('Spread')\n",
    "spread_5_outcome_average = np.mean(spreads_around_5)\n",
    "print(\"Average outcome:\", spread_5_outcome_average)"
   ]
  },
  {
   "cell_type": "markdown",
   "metadata": {},
   "source": [
    "Instead of doing that for each possible spread, we can use linear regression to predict an outcome for any spread."
   ]
  },
  {
   "cell_type": "markdown",
   "metadata": {},
   "source": [
    "<div class=\"hide\">\\pagebreak</div>\n",
    "#### Question 3\n",
    "If the average outcome for games with each spread is roughly equal to that spread, what would you expect the slope and intercept of the linear regression line to be?  Or is it impossible to say?  If it's impossible, use the cell below to write a comment explaining why.  Otherwise, write the expected slope and intercept."
   ]
  },
  {
   "cell_type": "code",
   "execution_count": 5,
   "metadata": {
    "collapsed": true
   },
   "outputs": [],
   "source": [
    "expected_slope = 1\n",
    "expected_intercept = 0"
   ]
  },
  {
   "cell_type": "markdown",
   "metadata": {},
   "source": [
    "Let's compute the regression line and find out if that's the case.  This takes a few steps."
   ]
  },
  {
   "cell_type": "markdown",
   "metadata": {},
   "source": [
    "<div class=\"hide\">\\pagebreak</div>\n",
    "#### Question 4\n",
    "Define a function called `standard_units`.  It should take an array of numbers as its argument and return an array of those numbers in standard units."
   ]
  },
  {
   "cell_type": "code",
   "execution_count": 6,
   "metadata": {
    "collapsed": true
   },
   "outputs": [],
   "source": [
    "def standard_units(nums):\n",
    "    \"\"\"Converts an array of numbers to standard units.\"\"\"\n",
    "    mean=np.mean(nums)\n",
    "    std=np.std(nums)\n",
    "    return (nums-mean)/std"
   ]
  },
  {
   "cell_type": "markdown",
   "metadata": {},
   "source": [
    "<div class=\"hide\">\\pagebreak</div>\n",
    "#### Question 5\n",
    "Compute the correlation between outcomes and spreads."
   ]
  },
  {
   "cell_type": "code",
   "execution_count": 16,
   "metadata": {},
   "outputs": [
    {
     "data": {
      "text/plain": [
       "0.49181413688314235"
      ]
     },
     "execution_count": 16,
     "metadata": {},
     "output_type": "execute_result"
    }
   ],
   "source": [
    "spread_r = np.mean(standard_units(spreads.column('Outcome'))*standard_units(spreads.column('Spread')))\n",
    "spread_r"
   ]
  },
  {
   "cell_type": "markdown",
   "metadata": {},
   "source": [
    "<div class=\"hide\">\\pagebreak</div>\n",
    "#### Question 6\n",
    "Compute the slope and intercept of the least-squares linear regression line that predicts outcomes from spreads."
   ]
  },
  {
   "cell_type": "code",
   "execution_count": 17,
   "metadata": {},
   "outputs": [
    {
     "name": "stdout",
     "output_type": "stream",
     "text": [
      "predicted outcome = 0.253564*spread + -2.144064\n"
     ]
    }
   ],
   "source": [
    "spread_slope = spread_r*np.std(spreads.column('Spread'))/np.std(spreads.column('Outcome'))\n",
    "spread_intercept = np.mean(spreads.column('Spread'))-spread_slope*np.mean(spreads.column('Outcome'))\n",
    "print(\"predicted outcome = {:f}*spread + {:f}\".format(spread_slope, spread_intercept))"
   ]
  },
  {
   "cell_type": "markdown",
   "metadata": {},
   "source": [
    "<div class=\"hide\">\\pagebreak</div>\n",
    "#### Question 7\n",
    "For each game in `spreads`, compute the predicted outcome using your regression line.  Add these to `spreads` as a column called `\"Predicted outcome\"`, naming the resulting table `with_predictions`."
   ]
  },
  {
   "cell_type": "code",
   "execution_count": 18,
   "metadata": {},
   "outputs": [
    {
     "data": {
      "text/html": [
       "<table border=\"1\" class=\"dataframe\">\n",
       "    <thead>\n",
       "        <tr>\n",
       "            <th>Date</th> <th>Home Team</th> <th>Away Team</th> <th>Home Points</th> <th>Away Points</th> <th>Outcome</th> <th>Spread</th> <th>Predicted outcome</th>\n",
       "        </tr>\n",
       "    </thead>\n",
       "    <tbody>\n",
       "        <tr>\n",
       "            <td>4/10/2015 </td> <td>Utah         </td> <td>Memphis    </td> <td>88         </td> <td>89         </td> <td>1      </td> <td>2.5   </td> <td>-1.8905          </td>\n",
       "        </tr>\n",
       "    </tbody>\n",
       "        <tr>\n",
       "            <td>3/10/2015 </td> <td>Utah         </td> <td>New York   </td> <td>87         </td> <td>82         </td> <td>-5     </td> <td>-13   </td> <td>-3.41188         </td>\n",
       "        </tr>\n",
       "    </tbody>\n",
       "        <tr>\n",
       "            <td>11/19/2014</td> <td>Indiana      </td> <td>Charlotte  </td> <td>88         </td> <td>86         </td> <td>-2     </td> <td>-2    </td> <td>-2.65119         </td>\n",
       "        </tr>\n",
       "    </tbody>\n",
       "        <tr>\n",
       "            <td>11/15/2014</td> <td>Chicago      </td> <td>Indiana    </td> <td>90         </td> <td>99         </td> <td>9      </td> <td>-9    </td> <td>0.138009         </td>\n",
       "        </tr>\n",
       "    </tbody>\n",
       "        <tr>\n",
       "            <td>3/25/2015 </td> <td>Utah         </td> <td>Portland   </td> <td>89         </td> <td>92         </td> <td>3      </td> <td>-2    </td> <td>-1.38337         </td>\n",
       "        </tr>\n",
       "    </tbody>\n",
       "        <tr>\n",
       "            <td>3/3/2015  </td> <td>Memphis      </td> <td>Utah       </td> <td>82         </td> <td>93         </td> <td>11     </td> <td>-7    </td> <td>0.645136         </td>\n",
       "        </tr>\n",
       "    </tbody>\n",
       "        <tr>\n",
       "            <td>3/18/2015 </td> <td>Utah         </td> <td>Washington </td> <td>84         </td> <td>88         </td> <td>4      </td> <td>-3    </td> <td>-1.12981         </td>\n",
       "        </tr>\n",
       "    </tbody>\n",
       "        <tr>\n",
       "            <td>3/16/2015 </td> <td>Utah         </td> <td>Charlotte  </td> <td>94         </td> <td>66         </td> <td>-28    </td> <td>-4.5  </td> <td>-9.24384         </td>\n",
       "        </tr>\n",
       "    </tbody>\n",
       "        <tr>\n",
       "            <td>1/24/2015 </td> <td>Charlotte    </td> <td>New York   </td> <td>76         </td> <td>71         </td> <td>-5     </td> <td>-9    </td> <td>-3.41188         </td>\n",
       "        </tr>\n",
       "    </tbody>\n",
       "        <tr>\n",
       "            <td>11/7/2014 </td> <td>Oklahoma City</td> <td>Memphis    </td> <td>89         </td> <td>91         </td> <td>2      </td> <td>7     </td> <td>-1.63694         </td>\n",
       "        </tr>\n",
       "    </tbody>\n",
       "</table>\n",
       "<p>... (1220 rows omitted)</p>"
      ],
      "text/plain": [
       "Date       | Home Team     | Away Team   | Home Points | Away Points | Outcome | Spread | Predicted outcome\n",
       "4/10/2015  | Utah          | Memphis     | 88          | 89          | 1       | 2.5    | -1.8905\n",
       "3/10/2015  | Utah          | New York    | 87          | 82          | -5      | -13    | -3.41188\n",
       "11/19/2014 | Indiana       | Charlotte   | 88          | 86          | -2      | -2     | -2.65119\n",
       "11/15/2014 | Chicago       | Indiana     | 90          | 99          | 9       | -9     | 0.138009\n",
       "3/25/2015  | Utah          | Portland    | 89          | 92          | 3       | -2     | -1.38337\n",
       "3/3/2015   | Memphis       | Utah        | 82          | 93          | 11      | -7     | 0.645136\n",
       "3/18/2015  | Utah          | Washington  | 84          | 88          | 4       | -3     | -1.12981\n",
       "3/16/2015  | Utah          | Charlotte   | 94          | 66          | -28     | -4.5   | -9.24384\n",
       "1/24/2015  | Charlotte     | New York    | 76          | 71          | -5      | -9     | -3.41188\n",
       "11/7/2014  | Oklahoma City | Memphis     | 89          | 91          | 2       | 7      | -1.63694\n",
       "... (1220 rows omitted)"
      ]
     },
     "execution_count": 18,
     "metadata": {},
     "output_type": "execute_result"
    }
   ],
   "source": [
    "with_predictions = spreads.with_column(\n",
    "    'Predicted outcome',spread_slope*spreads.column('Outcome')+spread_intercept)\n",
    "with_predictions"
   ]
  },
  {
   "cell_type": "markdown",
   "metadata": {},
   "source": [
    "Here's a plot of the predictions."
   ]
  },
  {
   "cell_type": "code",
   "execution_count": 19,
   "metadata": {},
   "outputs": [
    {
     "data": {
      "image/png": "[encoded data removed]",
      "text/plain": [
       "<matplotlib.figure.Figure at 0x15b577aba58>"
      ]
     },
     "metadata": {},
     "output_type": "display_data"
    }
   ],
   "source": [
    "with_predictions.scatter(\"Spread\", make_array(\"Outcome\", \"Predicted outcome\"))"
   ]
  },
  {
   "cell_type": "markdown",
   "metadata": {},
   "source": [
    "<div class=\"hide\">\\pagebreak</div>\n",
    "#### Question 8\n",
    "Is it true that the average outcome for games with each spread is around that spread?"
   ]
  },
  {
   "cell_type": "markdown",
   "metadata": {},
   "source": [
    "是的"
   ]
  },
  {
   "cell_type": "markdown",
   "metadata": {},
   "source": [
    "<div class=\"hide\">\\pagebreak</div>\n",
    "#### Question 9\n",
    "Do you think the casino predicted game outcomes *accurately*?  What number would you use to quantify that?"
   ]
  },
  {
   "cell_type": "markdown",
   "metadata": {},
   "source": [
    "感觉预测的还行，可以利用Outcome和Spread的符号是否一致的数量来比较"
   ]
  },
  {
   "cell_type": "markdown",
   "metadata": {},
   "source": [
    "<div class=\"hide\">\\pagebreak</div>\n",
    "## Finding the Least Squares Regression Line"
   ]
  },
  {
   "cell_type": "markdown",
   "metadata": {},
   "source": [
    "In this exercise, you'll work with a small, abstract dataset of 5 x/y pairs.  You'll see 3 ways to find the least-squares regression line.\n",
    "\n",
    "Run the next cell to generate the dataset `d` and see a scatter plot."
   ]
  },
  {
   "cell_type": "code",
   "execution_count": 20,
   "metadata": {},
   "outputs": [
    {
     "data": {
      "image/png": "[encoded data removed]",
      "text/plain": [
       "<matplotlib.figure.Figure at 0x15b578ad160>"
      ]
     },
     "metadata": {},
     "output_type": "display_data"
    }
   ],
   "source": [
    "d = Table().with_columns(\n",
    "    'x', make_array(0,  1,  2,  3,  4),\n",
    "    'y', make_array(1, .5, -1,  2, -3))\n",
    "d.scatter('x')"
   ]
  },
  {
   "cell_type": "markdown",
   "metadata": {},
   "source": [
    "<div class=\"hide\">\\pagebreak</div>\n",
    "When you run it, the next cell generates sliders that control the slope and intercept of a potential line.  When you adjust a slider, the line will move.\n",
    "\n",
    "#### Question 1\n",
    "By moving the line around, make your best guess at the least-squares regression line.  (It's okay if your line isn't exactly right, as long as it's reasonable.)\n",
    "\n",
    "**Note:** Python will probably take about a second to redraw the plot each time you adjust the slider.  We suggest clicking the place on the slider you want to try and waiting for the plot to be drawn; dragging the slider handle around will cause a long lag."
   ]
  },
  {
   "cell_type": "code",
   "execution_count": 21,
   "metadata": {},
   "outputs": [
    {
     "data": {
      "application/vnd.jupyter.widget-view+json": {
       "model_id": "2830daa4ffe0422b8ed7f45cf6f38493",
       "version_major": 2,
       "version_minor": 0
      },
      "text/plain": [
       "A Jupyter Widget"
      ]
     },
     "metadata": {},
     "output_type": "display_data"
    }
   ],
   "source": [
    "def plot_line(slope, intercept):\n",
    "    plt.figure(figsize=(5,5))\n",
    "    \n",
    "    endpoints = make_array(-2, 7)\n",
    "    p = plt.plot(endpoints, slope*endpoints + intercept, color='orange', label='Proposed line')\n",
    "    \n",
    "    plt.scatter(d.column('x'), d.column('y'), color='blue', label='Points')\n",
    "    \n",
    "    plt.xlim(-4, 8)\n",
    "    plt.ylim(-6, 6)\n",
    "    plt.gca().set_aspect('equal', adjustable='box')\n",
    "    \n",
    "    plt.legend(bbox_to_anchor=(1.8, .8))\n",
    "\n",
    "interact(plot_line, slope=widgets.FloatSlider(min=-4, max=4, step=.1), intercept=widgets.FloatSlider(min=-4, max=4, step=.1));"
   ]
  },
  {
   "cell_type": "markdown",
   "metadata": {},
   "source": [
    "<div class=\"hide\">\\pagebreak</div>\n",
    "\n",
    "You can probably find a reasonable-looking line by just eyeballing it.  But remember: the least-squares regression line minimizes the mean of the squared errors made by the line for each point.  Your eye might not be able to judge squared errors very well.\n",
    "\n",
    "#### A note on mean and total squared error\n",
    "Before we move on, a note is in order.\n",
    "\n",
    "It is common to think of the least-squares line as the line with the least *mean* squared error (or the square root of the mean squared error), as the textbook does.\n",
    "\n",
    "But it turns out that it doesn't matter whether you minimize the mean squared error or the *total* squared error.  You'll get the same best line in either case.\n",
    "\n",
    "That's because the total squared error is just the mean squared error multipled by the number of points (`d.num_rows`).  So if one line gets a better total squared error than another line, then it also gets a better mean squared error.  In particular, the line with the smallest total squared error is also better than every other line in terms of mean squared error.  That makes it the least squares line."
   ]
  },
  {
   "cell_type": "markdown",
   "metadata": {
    "collapsed": true
   },
   "source": [
    "#### Question 2\n",
    "The next cell produces a more useful plot.  Use it to find a line that's closer to the least-squares regression line, keeping the above note in mind."
   ]
  },
  {
   "cell_type": "code",
   "execution_count": 22,
   "metadata": {},
   "outputs": [
    {
     "data": {
      "application/vnd.jupyter.widget-view+json": {
       "model_id": "2a910563a31b4b009364d4b7353beb1a",
       "version_major": 2,
       "version_minor": 0
      },
      "text/plain": [
       "A Jupyter Widget"
      ]
     },
     "metadata": {},
     "output_type": "display_data"
    }
   ],
   "source": [
    "def plot_line_and_errors(slope, intercept):\n",
    "    plt.figure(figsize=(5,5))\n",
    "    points = make_array(-2, 7)\n",
    "    p = plt.plot(points, slope*points + intercept, color='orange', label='Proposed line')\n",
    "    ax = p[0].axes\n",
    "    \n",
    "    predicted_ys = slope*d.column('x') + intercept\n",
    "    diffs = predicted_ys - d.column('y')\n",
    "    for i in np.arange(d.num_rows):\n",
    "        x = d.column('x').item(i)\n",
    "        y = d.column('y').item(i)\n",
    "        diff = diffs.item(i)\n",
    "        \n",
    "        if diff > 0:\n",
    "            bottom_left_x = x\n",
    "            bottom_left_y = y\n",
    "        else:\n",
    "            bottom_left_x = x + diff\n",
    "            bottom_left_y = y + diff\n",
    "        \n",
    "        ax.add_patch(patches.Rectangle(make_array(bottom_left_x, bottom_left_y), abs(diff), abs(diff), color='red', alpha=.3, label=('Squared error' if i == 0 else None)))\n",
    "        plt.plot(make_array(x, x), make_array(y, y + diff), color='red', alpha=.6, label=('Error' if i == 0 else None))\n",
    "    \n",
    "    plt.scatter(d.column('x'), d.column('y'), color='blue', label='Points')\n",
    "    \n",
    "    plt.xlim(-4, 8)\n",
    "    plt.ylim(-6, 6)\n",
    "    plt.gca().set_aspect('equal', adjustable='box')\n",
    "    \n",
    "    plt.legend(bbox_to_anchor=(1.8, .8))\n",
    "\n",
    "interact(plot_line_and_errors, slope=widgets.FloatSlider(min=-4, max=4, step=.1), intercept=widgets.FloatSlider(min=-4, max=4, step=.1));"
   ]
  },
  {
   "cell_type": "markdown",
   "metadata": {},
   "source": [
    "<div class=\"hide\">\\pagebreak</div>\n",
    "#### Question 3\n",
    "Describe the visual criterion you used to find a line in question 2.  (For example, a possible (but incorrect) answer is, \"I tried to make the red line for the bottom-right point as small as possible.\")"
   ]
  },
  {
   "cell_type": "markdown",
   "metadata": {},
   "source": [
    "矩形的面积最小。"
   ]
  },
  {
   "cell_type": "markdown",
   "metadata": {},
   "source": [
    "<div class=\"hide\">\\pagebreak</div>\n",
    "#### Question 4\n",
    "Does the point at (3, 2) have more or less influence than any other point on the location of the line?"
   ]
  },
  {
   "cell_type": "markdown",
   "metadata": {},
   "source": [
    "这个点的影响更大"
   ]
  },
  {
   "cell_type": "markdown",
   "metadata": {},
   "source": [
    "Now, let's have Python find this line for us.  When we use `minimize`, Python goes through a process similar to the one you might have used in question 2.\n",
    "\n",
    "But Python can't look at a plot that displays errors!  Instead, we tell it how to find the total squared error for a line with a given slope and intercept."
   ]
  },
  {
   "cell_type": "markdown",
   "metadata": {},
   "source": [
    "<div class=\"hide\">\\pagebreak</div>\n",
    "#### Question 5\n",
    "Define a function called `total_squared_error`.  It should take two numbers as arguments:\n",
    "\n",
    "1. the slope of some potential line\n",
    "2. the intercept of some potential line\n",
    "\n",
    "It should return the total squared error when we use that line to make predictions for the dataset `d`."
   ]
  },
  {
   "cell_type": "code",
   "execution_count": 23,
   "metadata": {},
   "outputs": [
    {
     "data": {
      "text/html": [
       "<table border=\"1\" class=\"dataframe\">\n",
       "    <thead>\n",
       "        <tr>\n",
       "            <th>x</th> <th>y</th>\n",
       "        </tr>\n",
       "    </thead>\n",
       "    <tbody>\n",
       "        <tr>\n",
       "            <td>0   </td> <td>1   </td>\n",
       "        </tr>\n",
       "    </tbody>\n",
       "        <tr>\n",
       "            <td>1   </td> <td>0.5 </td>\n",
       "        </tr>\n",
       "    </tbody>\n",
       "        <tr>\n",
       "            <td>2   </td> <td>-1  </td>\n",
       "        </tr>\n",
       "    </tbody>\n",
       "        <tr>\n",
       "            <td>3   </td> <td>2   </td>\n",
       "        </tr>\n",
       "    </tbody>\n",
       "        <tr>\n",
       "            <td>4   </td> <td>-3  </td>\n",
       "        </tr>\n",
       "    </tbody>\n",
       "</table>"
      ],
      "text/plain": [
       "x    | y\n",
       "0    | 1\n",
       "1    | 0.5\n",
       "2    | -1\n",
       "3    | 2\n",
       "4    | -3"
      ]
     },
     "execution_count": 23,
     "metadata": {},
     "output_type": "execute_result"
    }
   ],
   "source": [
    "d"
   ]
  },
  {
   "cell_type": "code",
   "execution_count": 27,
   "metadata": {
    "collapsed": true
   },
   "outputs": [],
   "source": [
    "def total_squared_error(slope, intercept):\n",
    "    # Hint: The staff answer computed an array called predictions\n",
    "    # and an array called errors first.\n",
    "    predictions = d.column('x')*slope+intercept\n",
    "    errors = np.sum((predictions-d.column('y'))**2)\n",
    "    return errors"
   ]
  },
  {
   "cell_type": "code",
   "execution_count": 29,
   "metadata": {},
   "outputs": [
    {
     "name": "stdout",
     "output_type": "stream",
     "text": [
      "~~~~~~~~~~~~~~~~~~~~~~~~~~~~~~~~~~~~~~~~~~~~~~~~~~~~~~~~~~~~~~~~~~~~~\n",
      "Running tests\n",
      "\n",
      "---------------------------------------------------------------------\n",
      "Test summary\n",
      "    Passed: 1\n",
      "    Failed: 0\n",
      "[ooooooooook] 100.0% passed\n",
      "\n"
     ]
    }
   ],
   "source": [
    "_ = tests.grade('q2_5')"
   ]
  },
  {
   "cell_type": "markdown",
   "metadata": {},
   "source": [
    "<div class=\"hide\">\\pagebreak</div>\n",
    "#### Question 6\n",
    "What is the total squared error for the line you found by \"eyeballing\" the errors in the first question?  What about the question after that, where you had a better visual aid?  (It's okay if the error went up!)"
   ]
  },
  {
   "cell_type": "code",
   "execution_count": 31,
   "metadata": {
    "for_assignment_type": "student"
   },
   "outputs": [
    {
     "name": "stdout",
     "output_type": "stream",
     "text": [
      "Eyeballed error: 15 \n",
      "Aided error: 15.25\n"
     ]
    }
   ],
   "source": [
    "eyeballed_error = 15\n",
    "aided_error = total_squared_error(-0.8, 2.4)\n",
    "print(\"Eyeballed error:\", eyeballed_error, \"\\nAided error:\", aided_error)"
   ]
  },
  {
   "cell_type": "markdown",
   "metadata": {},
   "source": [
    "<div class=\"hide\">\\pagebreak</div>\n",
    "#### Question 7\n",
    "Use `minimize` to find the actual slope and intercept of the least-squares regression line.\n",
    "\n",
    "**Note:** `minimize` will return a single array containing the slope as the first element and intercept as the second."
   ]
  },
  {
   "cell_type": "code",
   "execution_count": 33,
   "metadata": {
    "for_assignment_type": "student"
   },
   "outputs": [
    {
     "name": "stdout",
     "output_type": "stream",
     "text": [
      "Least-squares regression line: predicted_y = -0.649837*x + 1.198862\n"
     ]
    }
   ],
   "source": [
    "# The staff solution used 1 line of code above here.\n",
    "slope_from_minimize = minimize(total_squared_error)[0]\n",
    "intercept_from_minimize = minimize(total_squared_error)[1]\n",
    "print(\"Least-squares regression line: predicted_y = {:f}*x + {:f}\".format(slope_from_minimize, intercept_from_minimize))"
   ]
  },
  {
   "cell_type": "markdown",
   "metadata": {},
   "source": [
    "<div class=\"hide\">\\pagebreak</div>\n",
    "#### Question 8\n",
    "What was the total squared error for that line?"
   ]
  },
  {
   "cell_type": "code",
   "execution_count": 34,
   "metadata": {},
   "outputs": [
    {
     "data": {
      "text/plain": [
       "10.975003568216033"
      ]
     },
     "execution_count": 34,
     "metadata": {},
     "output_type": "execute_result"
    }
   ],
   "source": [
    "best_total_squared_error = total_squared_error(slope_from_minimize,intercept_from_minimize)\n",
    "best_total_squared_error"
   ]
  },
  {
   "cell_type": "markdown",
   "metadata": {},
   "source": [
    "Run the following cell to plot this line and its errors:"
   ]
  },
  {
   "cell_type": "code",
   "execution_count": 35,
   "metadata": {},
   "outputs": [
    {
     "data": {
      "image/png": "[encoded data removed]",
      "text/plain": [
       "<matplotlib.figure.Figure at 0x15b57d12710>"
      ]
     },
     "metadata": {},
     "output_type": "display_data"
    }
   ],
   "source": [
    "plot_line_and_errors(slope_from_minimize, intercept_from_minimize)"
   ]
  },
  {
   "cell_type": "markdown",
   "metadata": {},
   "source": [
    "<div class=\"hide\">\\pagebreak</div>\n",
    "#### Question 9\n",
    "Compute the correlation between the `\"x\"` and `\"y\"` columns, then use the formula in [13.2](https://www.inferentialthinking.com/chapters/13/2/regression-line.html) to find the slope and intercept of the least-squares regression line."
   ]
  },
  {
   "cell_type": "code",
   "execution_count": 36,
   "metadata": {
    "for_assignment_type": "student"
   },
   "outputs": [
    {
     "name": "stdout",
     "output_type": "stream",
     "text": [
      "Regression line computed from the correlation: predicted_y = -0.650000*x + 1.200000\n"
     ]
    }
   ],
   "source": [
    "# The staff solution used 4 lines of code before this.\n",
    "d_r = np.mean(standard_units(d.column('x'))*standard_units(d.column('y')))\n",
    "slope_from_r = d_r*np.std(d.column('y'))/np.std(d.column('x'))\n",
    "intercept_from_r = np.mean(d.column('y'))-slope_from_r*np.mean(d.column('x'))\n",
    "print(\"Regression line computed from the correlation: predicted_y = {:f}*x + {:f}\".format(slope_from_r, intercept_from_r))"
   ]
  },
  {
   "cell_type": "markdown",
   "metadata": {},
   "source": [
    "Compare this with your answer to question 7 to verify that they're both correct.  They will be a little bit different, because `minimize` is by default accurate only to within $0.01$.  (If they're not roughly the same, try computing the total squared error for both; the one with the smaller error is more likely correct!)"
   ]
  },
  {
   "cell_type": "markdown",
   "metadata": {},
   "source": [
    "<div class=\"hide\">\\pagebreak</div>\n",
    "## Triple Jump Distances vs. Vertical Jump Heights "
   ]
  },
  {
   "cell_type": "markdown",
   "metadata": {},
   "source": [
    "Does skill in one sport imply skill in a related sport?  The answer might be different for different activities.  Let us find out whether it's true for the [triple jump](https://en.wikipedia.org/wiki/Triple_jump) (an horizontal jump similar to a long jump) and the vertical jump.  Since we're learning about linear regression, we will look specifically for a *linear* association between skill in the two sports.\n",
    "\n",
    "The following data was collected by observing 40 collegiate level soccer players.  Each athlete's distance in both jump activities was measured (in centimeters). Run the cell below to load the data."
   ]
  },
  {
   "cell_type": "code",
   "execution_count": 37,
   "metadata": {},
   "outputs": [
    {
     "data": {
      "text/html": [
       "<table border=\"1\" class=\"dataframe\">\n",
       "    <thead>\n",
       "        <tr>\n",
       "            <th>triple</th> <th>vertical</th>\n",
       "        </tr>\n",
       "    </thead>\n",
       "    <tbody>\n",
       "        <tr>\n",
       "            <td>383   </td> <td>33      </td>\n",
       "        </tr>\n",
       "    </tbody>\n",
       "        <tr>\n",
       "            <td>781   </td> <td>71.1    </td>\n",
       "        </tr>\n",
       "    </tbody>\n",
       "        <tr>\n",
       "            <td>561.62</td> <td>62.25   </td>\n",
       "        </tr>\n",
       "    </tbody>\n",
       "        <tr>\n",
       "            <td>624.52</td> <td>61.33   </td>\n",
       "        </tr>\n",
       "    </tbody>\n",
       "        <tr>\n",
       "            <td>446.24</td> <td>40.19   </td>\n",
       "        </tr>\n",
       "    </tbody>\n",
       "        <tr>\n",
       "            <td>515.3 </td> <td>38.96   </td>\n",
       "        </tr>\n",
       "    </tbody>\n",
       "        <tr>\n",
       "            <td>449.22</td> <td>39.69   </td>\n",
       "        </tr>\n",
       "    </tbody>\n",
       "        <tr>\n",
       "            <td>560.91</td> <td>46.51   </td>\n",
       "        </tr>\n",
       "    </tbody>\n",
       "        <tr>\n",
       "            <td>519.12</td> <td>37.68   </td>\n",
       "        </tr>\n",
       "    </tbody>\n",
       "        <tr>\n",
       "            <td>595.38</td> <td>53.48   </td>\n",
       "        </tr>\n",
       "    </tbody>\n",
       "</table>\n",
       "<p>... (30 rows omitted)</p>"
      ],
      "text/plain": [
       "triple | vertical\n",
       "383    | 33\n",
       "781    | 71.1\n",
       "561.62 | 62.25\n",
       "624.52 | 61.33\n",
       "446.24 | 40.19\n",
       "515.3  | 38.96\n",
       "449.22 | 39.69\n",
       "560.91 | 46.51\n",
       "519.12 | 37.68\n",
       "595.38 | 53.48\n",
       "... (30 rows omitted)"
      ]
     },
     "execution_count": 37,
     "metadata": {},
     "output_type": "execute_result"
    }
   ],
   "source": [
    "# Run this cell to load the data\n",
    "jumps = Table.read_table('triple_vertical.csv')\n",
    "jumps"
   ]
  },
  {
   "cell_type": "markdown",
   "metadata": {},
   "source": [
    "<div class=\"hide\">\\pagebreak</div>\n",
    "#### Question 1\n",
    "Before running a regression, it's important to see what the data look like, because our eyes are good at picking out unusual patterns in data.  Draw a scatter plot with the triple jump distances on the horizontal axis and the vertical jump heights on vertical axis."
   ]
  },
  {
   "cell_type": "code",
   "execution_count": 38,
   "metadata": {
    "scrolled": true
   },
   "outputs": [
    {
     "data": {
      "image/png": "[encoded data removed]",
      "text/plain": [
       "<matplotlib.figure.Figure at 0x15b58fc1208>"
      ]
     },
     "metadata": {},
     "output_type": "display_data"
    }
   ],
   "source": [
    "jumps.scatter('triple','vertical')"
   ]
  },
  {
   "cell_type": "markdown",
   "metadata": {},
   "source": [
    "<div class=\"hide\">\\pagebreak</div>\n",
    "**Question 2** Does the correlation coefficient `r` look closer to 0, .5, or -.5? Explain. "
   ]
  },
  {
   "cell_type": "markdown",
   "metadata": {},
   "source": [
    "0"
   ]
  },
  {
   "cell_type": "markdown",
   "metadata": {},
   "source": [
    "<div class=\"hide\">\\pagebreak</div>\n",
    "#### Question 3\n",
    "Create a function called `regression_parameters`. It takes as its argument a table with two columns.  The first column is the x-axis, and the second column is the y-axis.  It should compute the correlation between the two columns, then compute the slope and intercept of the regression line that predicts the second column from the first.  It should return an array with three elements: the correlation coefficient of the two columns, the slope of the regression line, and the intercept of the regression line.\n",
    "\n",
    "**Hint:** You did a similar thing in lab, though it was spread out across several questions."
   ]
  },
  {
   "cell_type": "code",
   "execution_count": 39,
   "metadata": {
    "for_assignment_type": "student"
   },
   "outputs": [],
   "source": [
    "def regression_parameters(tbl):\n",
    "    x=tbl.column(0)\n",
    "    y=tbl.column(1)\n",
    "    # Our solution had 4 lines above this one\n",
    "    r = np.mean(standard_units(x)*standard_units(y))\n",
    "    slope = r*np.std(y)/np.std(x)\n",
    "    intercept = np.mean(y)-slope*np.mean(x)\n",
    "    return make_array(r,slope,intercept)\n",
    "\n",
    "# When your function is finished, the next lines should\n",
    "# perform a regression predicting vertical jump distances\n",
    "# from triple jump distances.\n",
    "parameters = regression_parameters(jumps)\n",
    "jumps_r = parameters.item(0)\n",
    "jumps_slope = parameters.item(1)\n",
    "jumps_intercept = parameters.item(2)"
   ]
  },
  {
   "cell_type": "code",
   "execution_count": 42,
   "metadata": {},
   "outputs": [
    {
     "data": {
      "text/plain": [
       "array([ 0.8343077 ,  0.09295728, -1.56652097])"
      ]
     },
     "execution_count": 42,
     "metadata": {},
     "output_type": "execute_result"
    }
   ],
   "source": [
    "parameters"
   ]
  },
  {
   "cell_type": "markdown",
   "metadata": {},
   "source": [
    "<div class=\"hide\">\\pagebreak</div>\n",
    "#### Question 4\n",
    "Let's use `regression_parameters` to predict what certain athletes' vertical jump heights would be given their triple jump distances.\n",
    "\n",
    "The world record for the triple jump distance is 18.29 *meters* by Johnathan Edwards. What's our prediction for what Edwards' vertical jump would be?"
   ]
  },
  {
   "cell_type": "code",
   "execution_count": 43,
   "metadata": {},
   "outputs": [
    {
     "name": "stdout",
     "output_type": "stream",
     "text": [
      "Predicted vertical jump distance: 168.452347 centimeters\n"
     ]
    }
   ],
   "source": [
    "triple_record_vert_est = 18.29*100*jumps_slope+jumps_intercept\n",
    "print(\"Predicted vertical jump distance: {:f} centimeters\".format(triple_record_vert_est))"
   ]
  },
  {
   "cell_type": "markdown",
   "metadata": {},
   "source": [
    "<div class=\"hide\">\\pagebreak</div>\n",
    "#### Question 5\n",
    "Do you trust this estimate? Why or why not?"
   ]
  },
  {
   "cell_type": "markdown",
   "metadata": {},
   "source": [
    "不相信，超出太多了"
   ]
  },
  {
   "cell_type": "markdown",
   "metadata": {},
   "source": [
    "<div class=\"hide\">\\pagebreak</div>\n",
    "## The Bootstrap and The Normal Curve"
   ]
  },
  {
   "cell_type": "markdown",
   "metadata": {},
   "source": [
    "In this exercise, we will explore a dataset that includes the safety inspection scores for restauraunts in the city of Austin, Texas.  We will be interested in determining the average restaurant score (out of 100) for the city from a random sample of the scores.  We'll compare two methods for computing a confidence interval for that quantity: the bootstrap resampling method, and an approximation based on the Central Limit Theorem."
   ]
  },
  {
   "cell_type": "code",
   "execution_count": 44,
   "metadata": {},
   "outputs": [
    {
     "data": {
      "text/html": [
       "<table border=\"1\" class=\"dataframe\">\n",
       "    <thead>\n",
       "        <tr>\n",
       "            <th>Restaurant Name</th> <th>Zip Code</th> <th>Inspection Date</th> <th>Score</th> <th>Address</th>\n",
       "        </tr>\n",
       "    </thead>\n",
       "    <tbody>\n",
       "        <tr>\n",
       "            <td>6M Grocery     </td> <td>78652   </td> <td>01/17/2014     </td> <td>90   </td> <td>805 W FM 1626 RD\n",
       "AUSTIN, TX 78652\n",
       "     </td>\n",
       "        </tr>\n",
       "    </tbody>\n",
       "        <tr>\n",
       "            <td>6M Grocery     </td> <td>78652   </td> <td>04/27/2015     </td> <td>93   </td> <td>805 W FM 1626 RD\n",
       "AUSTIN, TX 78652\n",
       "     </td>\n",
       "        </tr>\n",
       "    </tbody>\n",
       "        <tr>\n",
       "            <td>6M Grocery     </td> <td>78652   </td> <td>05/02/2016     </td> <td>88   </td> <td>805 W FM 1626 RD\n",
       "AUSTIN, TX 78652\n",
       "     </td>\n",
       "        </tr>\n",
       "    </tbody>\n",
       "        <tr>\n",
       "            <td>6M Grocery     </td> <td>78652   </td> <td>07/25/2014     </td> <td>100  </td> <td>805 W FM 1626 RD\n",
       "AUSTIN, TX 78652\n",
       "     </td>\n",
       "        </tr>\n",
       "    </tbody>\n",
       "        <tr>\n",
       "            <td>6M Grocery     </td> <td>78652   </td> <td>10/21/2015     </td> <td>87   </td> <td>805 W FM 1626 RD\n",
       "AUSTIN, TX 78652\n",
       "     </td>\n",
       "        </tr>\n",
       "    </tbody>\n",
       "        <tr>\n",
       "            <td>6M Grocery     </td> <td>78652   </td> <td>12/15/2014     </td> <td>93   </td> <td>805 W FM 1626 RD\n",
       "AUSTIN, TX 78652\n",
       "     </td>\n",
       "        </tr>\n",
       "    </tbody>\n",
       "        <tr>\n",
       "            <td>7 Eleven #36575</td> <td>78660   </td> <td>01/25/2016     </td> <td>92   </td> <td>15829 N IH 35 SVRD NB\n",
       "AUSTIN, TX 78660\n",
       "</td>\n",
       "        </tr>\n",
       "    </tbody>\n",
       "        <tr>\n",
       "            <td>7 Eleven #36575</td> <td>78660   </td> <td>03/05/2015     </td> <td>86   </td> <td>15829 N IH 35 SVRD NB\n",
       "AUSTIN, TX 78660\n",
       "</td>\n",
       "        </tr>\n",
       "    </tbody>\n",
       "        <tr>\n",
       "            <td>7 Eleven #36575</td> <td>78660   </td> <td>03/14/2014     </td> <td>93   </td> <td>15829 N IH 35 SVRD NB\n",
       "AUSTIN, TX 78660\n",
       "</td>\n",
       "        </tr>\n",
       "    </tbody>\n",
       "        <tr>\n",
       "            <td>7 Eleven #36575</td> <td>78660   </td> <td>07/27/2015     </td> <td>97   </td> <td>15829 N IH 35 SVRD NB\n",
       "AUSTIN, TX 78660\n",
       "</td>\n",
       "        </tr>\n",
       "    </tbody>\n",
       "</table>\n",
       "<p>... (24357 rows omitted)</p>"
      ],
      "text/plain": [
       "Restaurant Name | Zip Code | Inspection Date | Score | Address\n",
       "6M Grocery      | 78652    | 01/17/2014      | 90    | 805 W FM 1626 RD\n",
       "AUSTIN, TX 78652\n",
       "6M Grocery      | 78652    | 04/27/2015      | 93    | 805 W FM 1626 RD\n",
       "AUSTIN, TX 78652\n",
       "6M Grocery      | 78652    | 05/02/2016      | 88    | 805 W FM 1626 RD\n",
       "AUSTIN, TX 78652\n",
       "6M Grocery      | 78652    | 07/25/2014      | 100   | 805 W FM 1626 RD\n",
       "AUSTIN, TX 78652\n",
       "6M Grocery      | 78652    | 10/21/2015      | 87    | 805 W FM 1626 RD\n",
       "AUSTIN, TX 78652\n",
       "6M Grocery      | 78652    | 12/15/2014      | 93    | 805 W FM 1626 RD\n",
       "AUSTIN, TX 78652\n",
       "7 Eleven #36575 | 78660    | 01/25/2016      | 92    | 15829 N IH 35 SVRD NB\n",
       "AUSTIN, TX 78660\n",
       "7 Eleven #36575 | 78660    | 03/05/2015      | 86    | 15829 N IH 35 SVRD NB\n",
       "AUSTIN, TX 78660\n",
       "7 Eleven #36575 | 78660    | 03/14/2014      | 93    | 15829 N IH 35 SVRD NB\n",
       "AUSTIN, TX 78660\n",
       "7 Eleven #36575 | 78660    | 07/27/2015      | 97    | 15829 N IH 35 SVRD NB\n",
       "AUSTIN, TX 78660\n",
       "... (24357 rows omitted)"
      ]
     },
     "execution_count": 44,
     "metadata": {},
     "output_type": "execute_result"
    }
   ],
   "source": [
    "# Just run this cell.\n",
    "pop_restaurants = Table.read_table('restaurant_inspection_scores.csv').drop(5,6)\n",
    "pop_restaurants"
   ]
  },
  {
   "cell_type": "markdown",
   "metadata": {},
   "source": [
    "<div class=\"hide\">\\pagebreak</div>\n",
    "#### Question 1\n",
    "Plot a histogram of the scores."
   ]
  },
  {
   "cell_type": "code",
   "execution_count": 45,
   "metadata": {},
   "outputs": [
    {
     "data": {
      "image/png": "[encoded data removed]",
      "text/plain": [
       "<matplotlib.figure.Figure at 0x15b57ce1748>"
      ]
     },
     "metadata": {},
     "output_type": "display_data"
    }
   ],
   "source": [
    "# Write your code here.\n",
    "pop_restaurants.hist('Score')"
   ]
  },
  {
   "cell_type": "markdown",
   "metadata": {},
   "source": [
    "This is the population mean:"
   ]
  },
  {
   "cell_type": "code",
   "execution_count": 46,
   "metadata": {},
   "outputs": [
    {
     "data": {
      "text/plain": [
       "91.407066934788858"
      ]
     },
     "execution_count": 46,
     "metadata": {},
     "output_type": "execute_result"
    }
   ],
   "source": [
    "pop_mean = np.mean(pop_restaurants.column(3))\n",
    "pop_mean"
   ]
  },
  {
   "cell_type": "markdown",
   "metadata": {},
   "source": [
    "Often it is impossible to find complete datasets like this.  Imagine we instead had access only to a random sample of 100 restaurants, called `restaurant_sample`.  That table is created below. We are interested in using this sample to estimate the population mean."
   ]
  },
  {
   "cell_type": "code",
   "execution_count": 47,
   "metadata": {},
   "outputs": [
    {
     "data": {
      "text/html": [
       "<table border=\"1\" class=\"dataframe\">\n",
       "    <thead>\n",
       "        <tr>\n",
       "            <th>Restaurant Name</th> <th>Zip Code</th> <th>Inspection Date</th> <th>Score</th> <th>Address</th>\n",
       "        </tr>\n",
       "    </thead>\n",
       "    <tbody>\n",
       "        <tr>\n",
       "            <td>Plush                        </td> <td>78701   </td> <td>11/25/2013     </td> <td>94   </td> <td>617 RED RIVER ST\n",
       "AUSTIN, TX 78701\n",
       "(30.267319, -97.736905)   </td>\n",
       "        </tr>\n",
       "    </tbody>\n",
       "        <tr>\n",
       "            <td>International School of Texas</td> <td>78734   </td> <td>09/03/2015     </td> <td>100  </td> <td>4105 ECK LN\n",
       "AUSTIN, TX 78734\n",
       "(30.402777, -97.930143)        </td>\n",
       "        </tr>\n",
       "    </tbody>\n",
       "        <tr>\n",
       "            <td>A Shady Deal                 </td> <td>78653   </td> <td>04/18/2014     </td> <td>97   </td> <td>14219 LITTIG RD\n",
       "AUSTIN, TX 78653\n",
       "(30.333519, -97.508975)    </td>\n",
       "        </tr>\n",
       "    </tbody>\n",
       "        <tr>\n",
       "            <td>Davis Elementary             </td> <td>78727   </td> <td>09/02/2015     </td> <td>95   </td> <td>5214 DUVAL RD\n",
       "AUSTIN, TX 78727\n",
       "(30.417437, -97.74194)       </td>\n",
       "        </tr>\n",
       "    </tbody>\n",
       "        <tr>\n",
       "            <td>La Michoacana Meat Market    </td> <td>78741   </td> <td>04/30/2014     </td> <td>90   </td> <td>2237 E RIVERSIDE DR Unit 106\n",
       "AUSTIN, TX 78741\n",
       "(30.238295 ...</td>\n",
       "        </tr>\n",
       "    </tbody>\n",
       "        <tr>\n",
       "            <td>McDonald's   #4941           </td> <td>78704   </td> <td>02/28/2014     </td> <td>97   </td> <td>1209 BARTON SPRINGS RD\n",
       "AUSTIN, TX 78704\n",
       "(30.260751, -97. ...</td>\n",
       "        </tr>\n",
       "    </tbody>\n",
       "        <tr>\n",
       "            <td>Subway #7211                 </td> <td>78759   </td> <td>05/06/2016     </td> <td>97   </td> <td>4815 W BRAKER LN Unit 500\n",
       "AUSTIN, TX 78759\n",
       "(30.40065, -9 ...</td>\n",
       "        </tr>\n",
       "    </tbody>\n",
       "        <tr>\n",
       "            <td>Mangia Pizza                 </td> <td>78758   </td> <td>06/22/2016     </td> <td>77   </td> <td>12001 BURNET RD Unit D\n",
       "AUSTIN, TX 78758\n",
       "(30.408056, -97. ...</td>\n",
       "        </tr>\n",
       "    </tbody>\n",
       "        <tr>\n",
       "            <td>Quattro Gatti Restaurant     </td> <td>78701   </td> <td>01/28/2014     </td> <td>88   </td> <td>908 CONGRESS AVE\n",
       "AUSTIN, TX 78701\n",
       "(30.271213, -97.741636)   </td>\n",
       "        </tr>\n",
       "    </tbody>\n",
       "        <tr>\n",
       "            <td>Kerbey Lane Restaurant       </td> <td>78731   </td> <td>09/06/2016     </td> <td>87   </td> <td>3704 KERBEY LN\n",
       "AUSTIN, TX 78731\n",
       "(30.307909, -97.750302)     </td>\n",
       "        </tr>\n",
       "    </tbody>\n",
       "</table>\n",
       "<p>... (90 rows omitted)</p>"
      ],
      "text/plain": [
       "Restaurant Name               | Zip Code | Inspection Date | Score | Address\n",
       "Plush                         | 78701    | 11/25/2013      | 94    | 617 RED RIVER ST\n",
       "AUSTIN, TX 78701\n",
       "(30.267319, -97.736905)\n",
       "International School of Texas | 78734    | 09/03/2015      | 100   | 4105 ECK LN\n",
       "AUSTIN, TX 78734\n",
       "(30.402777, -97.930143)\n",
       "A Shady Deal                  | 78653    | 04/18/2014      | 97    | 14219 LITTIG RD\n",
       "AUSTIN, TX 78653\n",
       "(30.333519, -97.508975)\n",
       "Davis Elementary              | 78727    | 09/02/2015      | 95    | 5214 DUVAL RD\n",
       "AUSTIN, TX 78727\n",
       "(30.417437, -97.74194)\n",
       "La Michoacana Meat Market     | 78741    | 04/30/2014      | 90    | 2237 E RIVERSIDE DR Unit 106\n",
       "AUSTIN, TX 78741\n",
       "(30.238295 ...\n",
       "McDonald's   #4941            | 78704    | 02/28/2014      | 97    | 1209 BARTON SPRINGS RD\n",
       "AUSTIN, TX 78704\n",
       "(30.260751, -97. ...\n",
       "Subway #7211                  | 78759    | 05/06/2016      | 97    | 4815 W BRAKER LN Unit 500\n",
       "AUSTIN, TX 78759\n",
       "(30.40065, -9 ...\n",
       "Mangia Pizza                  | 78758    | 06/22/2016      | 77    | 12001 BURNET RD Unit D\n",
       "AUSTIN, TX 78758\n",
       "(30.408056, -97. ...\n",
       "Quattro Gatti Restaurant      | 78701    | 01/28/2014      | 88    | 908 CONGRESS AVE\n",
       "AUSTIN, TX 78701\n",
       "(30.271213, -97.741636)\n",
       "Kerbey Lane Restaurant        | 78731    | 09/06/2016      | 87    | 3704 KERBEY LN\n",
       "AUSTIN, TX 78731\n",
       "(30.307909, -97.750302)\n",
       "... (90 rows omitted)"
      ]
     },
     "execution_count": 47,
     "metadata": {},
     "output_type": "execute_result"
    }
   ],
   "source": [
    "restaurant_sample = pop_restaurants.sample(100, with_replacement=False)\n",
    "restaurant_sample"
   ]
  },
  {
   "cell_type": "markdown",
   "metadata": {},
   "source": [
    "<div class=\"hide\">\\pagebreak</div>\n",
    "#### Question 2\n",
    "Plot the histogram of the **sample** scores. "
   ]
  },
  {
   "cell_type": "code",
   "execution_count": 48,
   "metadata": {},
   "outputs": [
    {
     "data": {
      "image/png": "[encoded data removed]",
      "text/plain": [
       "<matplotlib.figure.Figure at 0x15b57d57be0>"
      ]
     },
     "metadata": {},
     "output_type": "display_data"
    }
   ],
   "source": [
    "# Write your code here:\n",
    "restaurant_sample.hist('Score')"
   ]
  },
  {
   "cell_type": "markdown",
   "metadata": {},
   "source": [
    "This is the **sample mean**:"
   ]
  },
  {
   "cell_type": "code",
   "execution_count": 49,
   "metadata": {},
   "outputs": [
    {
     "data": {
      "text/plain": [
       "91.900000000000006"
      ]
     },
     "execution_count": 49,
     "metadata": {},
     "output_type": "execute_result"
    }
   ],
   "source": [
    "sample_mean = np.mean(restaurant_sample.column(3))\n",
    "sample_mean"
   ]
  },
  {
   "cell_type": "markdown",
   "metadata": {},
   "source": [
    "<div class=\"hide\">\\pagebreak</div>\n",
    "#### Question 3\n",
    "Complete the function `bootstrap_scores` below. It should take no arguments. It should simulate drawing 5000 resamples from `restaurant_sample` and computing the mean restaurant score in each resample.  It should return an array of those 5000 resample means."
   ]
  },
  {
   "cell_type": "code",
   "execution_count": 53,
   "metadata": {},
   "outputs": [
    {
     "data": {
      "text/plain": [
       "array([ 91.528,  91.944,  91.552, ...,  91.652,  91.084,  91.344])"
      ]
     },
     "execution_count": 53,
     "metadata": {},
     "output_type": "execute_result"
    }
   ],
   "source": [
    "def bootstrap_scores():\n",
    "    resampled_means = np.array([])\n",
    "    for i in range(5000):\n",
    "        resampled_mean = np.mean(pop_restaurants.sample(500, with_replacement=False).column(3))\n",
    "        resampled_means = np.append(resampled_means,resampled_mean)\n",
    "    return resampled_means\n",
    "\n",
    "resampled_means = bootstrap_scores()\n",
    "resampled_means"
   ]
  },
  {
   "cell_type": "markdown",
   "metadata": {},
   "source": [
    "<div class=\"hide\">\\pagebreak</div>\n",
    "#### Question 4\n",
    "Make a histogram of the **resampled means**. What sort of a distribution do they look like they follow?"
   ]
  },
  {
   "cell_type": "code",
   "execution_count": 55,
   "metadata": {},
   "outputs": [
    {
     "data": {
      "text/plain": [
       "(array([   18.,   105.,   380.,   917.,  1376.,  1251.,   686.,   223.,\n",
       "           37.,     7.]),\n",
       " array([ 90.248 ,  90.4904,  90.7328,  90.9752,  91.2176,  91.46  ,\n",
       "         91.7024,  91.9448,  92.1872,  92.4296,  92.672 ]),\n",
       " <a list of 10 Patch objects>)"
      ]
     },
     "execution_count": 55,
     "metadata": {},
     "output_type": "execute_result"
    },
    {
     "data": {
      "image/png": "[encoded data removed]",
      "text/plain": [
       "<matplotlib.figure.Figure at 0x15b58e764e0>"
      ]
     },
     "metadata": {},
     "output_type": "display_data"
    }
   ],
   "source": [
    "# Write your code here:\n",
    "plt.hist(resampled_means)"
   ]
  },
  {
   "cell_type": "markdown",
   "metadata": {},
   "source": [
    "<div class=\"hide\">\\pagebreak</div>\n",
    "#### Question 5\n",
    "Compute a 95 percent confidence interval for the average restaurant score."
   ]
  },
  {
   "cell_type": "code",
   "execution_count": 60,
   "metadata": {},
   "outputs": [
    {
     "name": "stdout",
     "output_type": "stream",
     "text": [
      "95% confidence interval for the average restaurant score, computed by bootstrapping:\n",
      "( 90.734 , 92.06 )\n"
     ]
    }
   ],
   "source": [
    "lower_bound = percentile(2.5,resampled_means)\n",
    "upper_bound = percentile(97.5,resampled_means)\n",
    "print(\"95% confidence interval for the average restaurant score, computed by bootstrapping:\\n(\",lower_bound, \",\", upper_bound, \")\")"
   ]
  },
  {
   "cell_type": "markdown",
   "metadata": {},
   "source": [
    "<div class=\"hide\">\\pagebreak</div>\n",
    "#### Question 6\n",
    "Throughout this section, we've looked at histograms of three distributions: the population, the sample, and the means of resamples taken from the sample. Do the population and sample distributions look similar to each other?  What about the population and the means of resamples? Which, if any, look normally distributed?"
   ]
  },
  {
   "cell_type": "markdown",
   "metadata": {},
   "source": [
    "近似于正态分布"
   ]
  },
  {
   "cell_type": "markdown",
   "metadata": {},
   "source": [
    "For the last question, you'll need to recall two facts.\n",
    "1. If a group of numbers has a normal distribution, around 95% of them lie within 2 standard deviations of their mean.\n",
    "2. The Central Limit Theorem tells us the quantitative relationship between\n",
    "    * the standard deviation of an array of numbers and\n",
    "    * the standard deviation of an array of means of samples taken from those numbers."
   ]
  },
  {
   "cell_type": "markdown",
   "metadata": {},
   "source": [
    "<div class=\"hide\">\\pagebreak</div>\n",
    "#### Question 7\n",
    "Without referencing the array `resampled_means` or performing any new simulations, calculate an interval that covers approximately 95% of the numbers in that array.  **You may access `restaurant_sample`.**"
   ]
  },
  {
   "cell_type": "code",
   "execution_count": 61,
   "metadata": {
    "for_assignment_type": "student"
   },
   "outputs": [
    {
     "name": "stdout",
     "output_type": "stream",
     "text": [
      "95% confidence interval for the average restaurant score, computed by a normal approximation:\n",
      "( 90.7318898559 , 92.0829749441 )\n"
     ]
    }
   ],
   "source": [
    "# The staff solution included a few lines of code before this one.\n",
    "lower_bound_normal = np.mean(resampled_means)-2*np.std(resampled_means)\n",
    "upper_bound_normal = np.mean(resampled_means)+2*np.std(resampled_means)\n",
    "print(\"95% confidence interval for the average restaurant score, computed by a normal approximation:\\n(\",lower_bound_normal, \",\", upper_bound_normal, \")\")"
   ]
  },
  {
   "cell_type": "markdown",
   "metadata": {},
   "source": [
    "This confidence interval should look very similar to the one you computed in question 5. If not, try calculating the inner 95 percent using 1.96 standard deviations instead of 2, for a more precise calculation. If they are still very different, there may be an error in your code."
   ]
  }
 ],
 "metadata": {
  "kernelspec": {
   "display_name": "Python 3",
   "language": "python",
   "name": "python3"
  },
  "language_info": {
   "codemirror_mode": {
    "name": "ipython",
    "version": 3
   },
   "file_extension": ".py",
   "mimetype": "text/x-python",
   "name": "python",
   "nbconvert_exporter": "python",
   "pygments_lexer": "ipython3",
   "version": "3.6.3"
  }
 },
 "nbformat": 4,
 "nbformat_minor": 1
}
